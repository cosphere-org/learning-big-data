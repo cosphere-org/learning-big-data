{
 "cells": [
  {
   "cell_type": "markdown",
   "metadata": {},
   "source": [
    "## Challenge\n",
    "\n",
    "Use python generators to create the following functions:\n",
    "- `lazy_square` - which takes as input an iterable and returns square of each of element\n",
    "- `lazy_sum_pairs` - which takes as input two generators and returns new generator whose elements are sum of  element pairs from the input generators (use `zip`)\n",
    "- `lazy_find` - which reads a file given by a filepath and returns first line which contain some given word \n",
    "\n",
    "Extra prove to yourself that the memory footprint of your functions is really minimal"
   ]
  },
  {
   "cell_type": "code",
   "execution_count": 30,
   "metadata": {},
   "outputs": [
    {
     "name": "stdout",
     "output_type": "stream",
     "text": [
      "Overwriting ./resources/input_text.txt\n"
     ]
    }
   ],
   "source": [
    "%%file ./resources/input_text.txt\n",
    "\n",
    "Bloom Filters is one of those data structures that you don’t generally \n",
    "learn about in a typical data structures 101 class, but wish you had \n",
    "learnt once you know about them. Despite reading several articles on bloom \n",
    "filters I was still finding it hard to grasp the concepts until \n",
    "the last week when I decided to sit down and not get up until I get \n",
    "the hang of it. Below is an article where I attempt to explain what \n",
    "I understood in a clear way (hopefully) so that others can learn."
   ]
  },
  {
   "cell_type": "code",
   "execution_count": 43,
   "metadata": {},
   "outputs": [
    {
     "name": "stdout",
     "output_type": "stream",
     "text": [
      "Overwriting tests.py\n"
     ]
    }
   ],
   "source": [
    "%%file tests.py\n",
    "\n",
    "# from answer import lazy_square, lazy_element_sum, lazy_find\n",
    "from exercise import lazy_square, lazy_element_sum, lazy_find\n",
    "\n",
    "\n",
    "def test_lazy_square():\n",
    "    \n",
    "    # -- works for generator and returns generator\n",
    "    assert next(lazy_square(range(4, 5))) == 16\n",
    "    \n",
    "    # -- all elements are really squared\n",
    "    assert list(lazy_square((1, 4, 7, 3))) == [1, 16, 49, 9]\n",
    "\n",
    "    \n",
    "def test_lazy_element_sum():\n",
    "        \n",
    "    # -- works for generators of the same size\n",
    "    assert list(lazy_element_sum(range(4, 8), range(6, 16, 2))) == [10, 13, 16, 19]\n",
    "    \n",
    "    \n",
    "def test_lazy_find():\n",
    "    \n",
    "    # -- works for single match\n",
    "    assert list(lazy_find('./resources/input_text.txt', 'Despite')) == [\n",
    "        'learnt once you know about them. Despite reading several articles on bloom',\n",
    "    ]  \n",
    "    \n",
    "    # -- works for multi match\n",
    "    assert list(lazy_find('./resources/input_text.txt', 'Bloom')) == [\n",
    "        'Bloom Filters is one of those data structures that you don’t generally',\n",
    "        'learnt once you know about them. Despite reading several articles on bloom',\n",
    "    ]"
   ]
  },
  {
   "cell_type": "code",
   "execution_count": 44,
   "metadata": {},
   "outputs": [
    {
     "name": "stdout",
     "output_type": "stream",
     "text": [
      "\u001b[1m============================= test session starts ==============================\u001b[0m\n",
      "platform linux -- Python 3.6.5, pytest-3.8.2, py-1.6.0, pluggy-0.7.1\n",
      "rootdir: /home/maciej/projects/learning-big-data, inifile: pytest.ini\n",
      "plugins: pythonpath-0.7.1, mock-0.10.1, cov-2.5.1\n",
      "collected 3 items                                                              \u001b[0m\u001b[1m\n",
      "\n",
      "tests.py FFF\u001b[36m                                                             [100%]\u001b[0m\n",
      "\n",
      "=================================== FAILURES ===================================\n",
      "\u001b[31m\u001b[1m_______________________________ test_lazy_square _______________________________\u001b[0m\n",
      "\n",
      "\u001b[1m    def test_lazy_square():\u001b[0m\n",
      "\u001b[1m    \u001b[0m\n",
      "\u001b[1m        # -- works for generator and returns generator\u001b[0m\n",
      "\u001b[1m>       assert next(lazy_square(range(4, 5))) == 16\u001b[0m\n",
      "\u001b[1m\u001b[31mE       TypeError: 'NoneType' object is not an iterator\u001b[0m\n",
      "\n",
      "\u001b[1m\u001b[31mtests.py\u001b[0m:9: TypeError\n",
      "\u001b[31m\u001b[1m____________________________ test_lazy_element_sum _____________________________\u001b[0m\n",
      "\n",
      "\u001b[1m    def test_lazy_element_sum():\u001b[0m\n",
      "\u001b[1m    \u001b[0m\n",
      "\u001b[1m        # -- works for generators of the same size\u001b[0m\n",
      "\u001b[1m>       assert list(lazy_element_sum(range(4, 8), range(6, 16, 2))) == [10, 13, 16, 19]\u001b[0m\n",
      "\u001b[1m\u001b[31mE       TypeError: 'NoneType' object is not iterable\u001b[0m\n",
      "\n",
      "\u001b[1m\u001b[31mtests.py\u001b[0m:18: TypeError\n",
      "\u001b[31m\u001b[1m________________________________ test_lazy_find ________________________________\u001b[0m\n",
      "\n",
      "\u001b[1m    def test_lazy_find():\u001b[0m\n",
      "\u001b[1m    \u001b[0m\n",
      "\u001b[1m        # -- works for single match\u001b[0m\n",
      "\u001b[1m>       assert list(lazy_find('./resources/input_text.txt', 'Despite')) == [\u001b[0m\n",
      "\u001b[1m            'learnt once you know about them. Despite reading several articles on bloom',\u001b[0m\n",
      "\u001b[1m        ]\u001b[0m\n",
      "\u001b[1m\u001b[31mE       TypeError: 'NoneType' object is not iterable\u001b[0m\n",
      "\n",
      "\u001b[1m\u001b[31mtests.py\u001b[0m:24: TypeError\n",
      "\u001b[31m\u001b[1m=========================== 3 failed in 0.06 seconds ===========================\u001b[0m\n"
     ]
    }
   ],
   "source": [
    "!py.test tests.py"
   ]
  },
  {
   "cell_type": "markdown",
   "metadata": {},
   "source": [
    "## Your solution"
   ]
  },
  {
   "cell_type": "code",
   "execution_count": 1,
   "metadata": {},
   "outputs": [
    {
     "name": "stdout",
     "output_type": "stream",
     "text": [
      "Overwriting exercise.py\n"
     ]
    }
   ],
   "source": [
    "%%file exercise.py\n",
    "\n",
    "def lazy_square(iterable):\n",
    "    # your code goes here\n",
    "    pass\n",
    "        \n",
    "\n",
    "def lazy_element_sum(iterable_a, iterable_b):\n",
    "    # your code goes here\n",
    "    pass\n",
    "        \n",
    "    \n",
    "def lazy_find(filepath, term):\n",
    "    # your code goes here\n",
    "    pass"
   ]
  },
  {
   "cell_type": "markdown",
   "metadata": {},
   "source": [
    "## The answer"
   ]
  },
  {
   "cell_type": "code",
   "execution_count": 42,
   "metadata": {},
   "outputs": [],
   "source": [
    "#!cat answer.py"
   ]
  }
 ],
 "metadata": {
  "kernelspec": {
   "display_name": "Python 3",
   "language": "python",
   "name": "python3"
  },
  "language_info": {
   "codemirror_mode": {
    "name": "ipython",
    "version": 3
   },
   "file_extension": ".py",
   "mimetype": "text/x-python",
   "name": "python",
   "nbconvert_exporter": "python",
   "pygments_lexer": "ipython3",
   "version": "3.6.5"
  }
 },
 "nbformat": 4,
 "nbformat_minor": 2
}
