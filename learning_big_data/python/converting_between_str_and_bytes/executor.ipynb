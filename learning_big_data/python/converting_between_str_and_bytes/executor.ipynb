{
 "cells": [
  {
   "cell_type": "markdown",
   "metadata": {},
   "source": [
    "## Challenge\n",
    "\n",
    "Write two python functions for converting `bytes` to `str` and from `str` to `bytes` so that all tests in `tests.py` are passing. "
   ]
  },
  {
   "cell_type": "code",
   "execution_count": 5,
   "metadata": {},
   "outputs": [
    {
     "name": "stdout",
     "output_type": "stream",
     "text": [
      "Overwriting tests.py\n"
     ]
    }
   ],
   "source": [
    "%%file tests.py\n",
    "\n",
    "from exercise import bytes_to_str, str_to_bytes\n",
    "# from answer import bytes_to_str, str_to_bytes\n",
    "\n",
    "\n",
    "def test_bytes_to_str():\n",
    "    assert bytes_to_str(b'hi there') == 'hi there'\n",
    "    assert bytes_to_str(b'cze\\xc5\\x9b\\xc4\\x87') == 'cześć'\n",
    "    \n",
    "\n",
    "def test_str_to_bytes():\n",
    "    assert str_to_bytes('hi there') == b'hi there'\n",
    "    assert str_to_bytes('dziękuję') == b'dzi\\xc4\\x99kuj\\xc4\\x99'\n",
    "    \n",
    "    # -- length is \n",
    "    assert len(str_to_bytes('dziękuję')) == 10"
   ]
  },
  {
   "cell_type": "code",
   "execution_count": 6,
   "metadata": {},
   "outputs": [
    {
     "name": "stdout",
     "output_type": "stream",
     "text": [
      "\u001b[1m============================= test session starts ==============================\u001b[0m\n",
      "platform linux -- Python 3.6.5, pytest-3.8.2, py-1.6.0, pluggy-0.7.1\n",
      "rootdir: /home/maciej/projects/learning-big-data, inifile: pytest.ini\n",
      "plugins: pythonpath-0.7.1, mock-0.10.1, cov-2.5.1\n",
      "collected 2 items                                                              \u001b[0m\u001b[1m\n",
      "\n",
      "tests.py FF\u001b[36m                                                              [100%]\u001b[0m\n",
      "\n",
      "=================================== FAILURES ===================================\n",
      "\u001b[31m\u001b[1m______________________________ test_bytes_to_str _______________________________\u001b[0m\n",
      "\n",
      "\u001b[1m    def test_bytes_to_str():\u001b[0m\n",
      "\u001b[1m>       assert bytes_to_str(b'hi there') == 'hi there'\u001b[0m\n",
      "\u001b[1m\u001b[31mE       AssertionError: assert None == 'hi there'\u001b[0m\n",
      "\u001b[1m\u001b[31mE        +  where None = bytes_to_str(b'hi there')\u001b[0m\n",
      "\n",
      "\u001b[1m\u001b[31mtests.py\u001b[0m:7: AssertionError\n",
      "\u001b[31m\u001b[1m______________________________ test_str_to_bytes _______________________________\u001b[0m\n",
      "\n",
      "\u001b[1m    def test_str_to_bytes():\u001b[0m\n",
      "\u001b[1m>       assert str_to_bytes('hi there') == b'hi there'\u001b[0m\n",
      "\u001b[1m\u001b[31mE       AssertionError: assert None == b'hi there'\u001b[0m\n",
      "\u001b[1m\u001b[31mE        +  where None = str_to_bytes('hi there')\u001b[0m\n",
      "\n",
      "\u001b[1m\u001b[31mtests.py\u001b[0m:12: AssertionError\n",
      "\u001b[31m\u001b[1m=========================== 2 failed in 0.05 seconds ===========================\u001b[0m\n"
     ]
    }
   ],
   "source": [
    "!py.test tests.py"
   ]
  },
  {
   "cell_type": "markdown",
   "metadata": {},
   "source": [
    "## Your solution"
   ]
  },
  {
   "cell_type": "code",
   "execution_count": 2,
   "metadata": {},
   "outputs": [
    {
     "name": "stdout",
     "output_type": "stream",
     "text": [
      "Overwriting exercise.py\n"
     ]
    }
   ],
   "source": [
    "%%file exercise.py\n",
    "\n",
    "def bytes_to_str(b):\n",
    "    # your code goes here\n",
    "    pass\n",
    "\n",
    "\n",
    "def str_to_bytes(s):\n",
    "    # your code goes here\n",
    "    pass\n"
   ]
  },
  {
   "cell_type": "markdown",
   "metadata": {},
   "source": [
    "## Answer"
   ]
  },
  {
   "cell_type": "code",
   "execution_count": 4,
   "metadata": {},
   "outputs": [],
   "source": [
    "# !cat answer.py"
   ]
  },
  {
   "cell_type": "code",
   "execution_count": null,
   "metadata": {},
   "outputs": [],
   "source": []
  }
 ],
 "metadata": {
  "kernelspec": {
   "display_name": "Python 3",
   "language": "python",
   "name": "python3"
  },
  "language_info": {
   "codemirror_mode": {
    "name": "ipython",
    "version": 3
   },
   "file_extension": ".py",
   "mimetype": "text/x-python",
   "name": "python",
   "nbconvert_exporter": "python",
   "pygments_lexer": "ipython3",
   "version": "3.6.5"
  }
 },
 "nbformat": 4,
 "nbformat_minor": 2
}
