{
 "cells": [
  {
   "cell_type": "markdown",
   "metadata": {},
   "source": [
    "## Challenge\n",
    "\n",
    "Using list comprehensions create two functions:\n",
    "- `filter_elements` - that accepts iterable and function to be used for filtering\n",
    "- `map_elements` - that accepts iterable and function to be used for mapping elements of the input list "
   ]
  },
  {
   "cell_type": "code",
   "execution_count": 4,
   "metadata": {},
   "outputs": [
    {
     "name": "stdout",
     "output_type": "stream",
     "text": [
      "Overwriting tests.py\n"
     ]
    }
   ],
   "source": [
    "%%file tests.py\n",
    "\n",
    "# from answer import filter_elements, map_elements\n",
    "from exercise import filter_elements, map_elements\n",
    "\n",
    "\n",
    "def test_filter_elements():\n",
    "    \n",
    "    assert filter_elements([1, 3, 4, 5, 6, 1], lambda x: x % 2 == 0) == [4, 6]\n",
    "    \n",
    "    \n",
    "def test_map_elements():\n",
    "    \n",
    "    assert map_elements([1, 3, 4, 5], lambda x: x ** 2) == [1, 9, 16, 25]\n",
    "        "
   ]
  },
  {
   "cell_type": "code",
   "execution_count": 5,
   "metadata": {},
   "outputs": [
    {
     "name": "stdout",
     "output_type": "stream",
     "text": [
      "\u001b[1m============================= test session starts ==============================\u001b[0m\n",
      "platform linux -- Python 3.6.5, pytest-3.8.2, py-1.6.0, pluggy-0.7.1\n",
      "rootdir: /home/maciej/projects/learning-big-data, inifile: pytest.ini\n",
      "plugins: pythonpath-0.7.1, mock-0.10.1, cov-2.5.1\n",
      "collected 2 items                                                              \u001b[0m\u001b[1m\n",
      "\n",
      "tests.py FF\u001b[36m                                                              [100%]\u001b[0m\n",
      "\n",
      "=================================== FAILURES ===================================\n",
      "\u001b[31m\u001b[1m_____________________________ test_filter_elements _____________________________\u001b[0m\n",
      "\n",
      "\u001b[1m    def test_filter_elements():\u001b[0m\n",
      "\u001b[1m    \u001b[0m\n",
      "\u001b[1m>       assert filter_elements([1, 3, 4, 5, 6, 1], lambda x: x % 2 == 0) == [4, 6]\u001b[0m\n",
      "\u001b[1m\u001b[31mE       assert None == [4, 6]\u001b[0m\n",
      "\u001b[1m\u001b[31mE        +  where None = filter_elements([1, 3, 4, 5, 6, 1], <function test_filter_elements.<locals>.<lambda> at 0x7f52651bce18>)\u001b[0m\n",
      "\n",
      "\u001b[1m\u001b[31mtests.py\u001b[0m:8: AssertionError\n",
      "\u001b[31m\u001b[1m______________________________ test_map_elements _______________________________\u001b[0m\n",
      "\n",
      "\u001b[1m    def test_map_elements():\u001b[0m\n",
      "\u001b[1m    \u001b[0m\n",
      "\u001b[1m>       assert map_elements([1, 3, 4, 5], lambda x: x ** 2) == [1, 9, 16, 25]\u001b[0m\n",
      "\u001b[1m\u001b[31mE       assert None == [1, 9, 16, 25]\u001b[0m\n",
      "\u001b[1m\u001b[31mE        +  where None = map_elements([1, 3, 4, 5], <function test_map_elements.<locals>.<lambda> at 0x7f52651bc158>)\u001b[0m\n",
      "\n",
      "\u001b[1m\u001b[31mtests.py\u001b[0m:13: AssertionError\n",
      "\u001b[31m\u001b[1m=========================== 2 failed in 0.06 seconds ===========================\u001b[0m\n"
     ]
    }
   ],
   "source": [
    "!py.test tests.py"
   ]
  },
  {
   "cell_type": "markdown",
   "metadata": {},
   "source": [
    "## Your solution"
   ]
  },
  {
   "cell_type": "code",
   "execution_count": 18,
   "metadata": {},
   "outputs": [
    {
     "name": "stdout",
     "output_type": "stream",
     "text": [
      "Writing exercise.py\n"
     ]
    }
   ],
   "source": [
    "%%file exercise.py\n",
    "\n",
    "def filter_elements(x, fn):\n",
    "    # your code goes here\n",
    "    pass\n",
    "\n",
    "\n",
    "def map_elements(x, fn):\n",
    "    # your code goes here\n",
    "    pass\n"
   ]
  },
  {
   "cell_type": "markdown",
   "metadata": {},
   "source": [
    "## The answer"
   ]
  },
  {
   "cell_type": "code",
   "execution_count": 3,
   "metadata": {},
   "outputs": [],
   "source": [
    "# !cat answer.py"
   ]
  },
  {
   "cell_type": "code",
   "execution_count": null,
   "metadata": {},
   "outputs": [],
   "source": []
  }
 ],
 "metadata": {
  "kernelspec": {
   "display_name": "Python 3",
   "language": "python",
   "name": "python3"
  },
  "language_info": {
   "codemirror_mode": {
    "name": "ipython",
    "version": 3
   },
   "file_extension": ".py",
   "mimetype": "text/x-python",
   "name": "python",
   "nbconvert_exporter": "python",
   "pygments_lexer": "ipython3",
   "version": "3.6.5"
  }
 },
 "nbformat": 4,
 "nbformat_minor": 2
}
