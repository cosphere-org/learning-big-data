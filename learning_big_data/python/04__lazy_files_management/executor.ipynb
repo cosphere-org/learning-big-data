{
 "cells": [
  {
   "cell_type": "markdown",
   "metadata": {},
   "source": [
    "## Challenge\n",
    "\n",
    "Write the following functions trying to minimize their memeory footprint:\n",
    "- `find_offset` - which accepts a `filepath` and `term` and returns generator of tuples contain start and stop offset where a given term appears\n",
    "- `read_between` - which accepts a `filepath` and `start` and `stop` offset and returns a sequence of characters that are placed between those offsets"
   ]
  },
  {
   "cell_type": "code",
   "execution_count": null,
   "metadata": {},
   "outputs": [],
   "source": [
    "%%file ./resources/simple.txt\n",
    "\n",
    "Witaj świecie\n",
    "Jak się masz świecie"
   ]
  },
  {
   "cell_type": "code",
   "execution_count": 2,
   "metadata": {},
   "outputs": [
    {
     "name": "stdout",
     "output_type": "stream",
     "text": [
      "Writing ./resources/input_text.txt\n"
     ]
    }
   ],
   "source": [
    "%%file ./resources/complex.txt\n",
    "\n",
    "Bloom Filters is one of those data structures that you don’t generally \n",
    "learn about in a typical data structures 101 class, but wish you had \n",
    "learnt once you know about them. Despite reading several articles on bloom \n",
    "filters I was still finding it hard to grasp the concepts until \n",
    "the last week when I decided to sit down and not get up until I get \n",
    "the hang of it. Below is an article where I attempt to explain what \n",
    "I understood in a clear way (hopefully) so that others can learn."
   ]
  },
  {
   "cell_type": "code",
   "execution_count": 2,
   "metadata": {},
   "outputs": [
    {
     "name": "stdout",
     "output_type": "stream",
     "text": [
      "Overwriting tests.py\n"
     ]
    }
   ],
   "source": [
    "%%file tests.py\n",
    "\n",
    "from answer import find_offset, read_between\n",
    "# from exercise import find_offset, read_between\n",
    "\n",
    "\n",
    "def test_find_offset():\n",
    "    \n",
    "    assert list(find_offset('./resources/simple.txt', 'świecie')) == [\n",
    "        (6, 14), \n",
    "        (29, 37),\n",
    "    ] \n",
    "    \n",
    "    assert list(find_offset('./resources/complex.txt', 'Filters')) == [\n",
    "        (7, 14), \n",
    "        (221, 228),\n",
    "    ]     \n",
    "\n",
    "\n",
    "def test_read_between():\n",
    "    \n",
    "    assert read_between('./resources/simple.txt', 6, 14) == 'świecie'\n",
    "    assert read_between('./resources/simple.txt', 29, 37) == 'świecie'\n",
    "\n",
    "    assert read_between('./resources/complex.txt', 221, 228) == 'filters'\n"
   ]
  },
  {
   "cell_type": "code",
   "execution_count": 3,
   "metadata": {},
   "outputs": [
    {
     "name": "stdout",
     "output_type": "stream",
     "text": [
      "\u001b[1m============================= test session starts ==============================\u001b[0m\n",
      "platform linux -- Python 3.6.5, pytest-3.8.2, py-1.6.0, pluggy-0.7.1\n",
      "rootdir: /home/maciej/projects/learning-big-data, inifile: pytest.ini\n",
      "plugins: pythonpath-0.7.1, mock-0.10.1, cov-2.5.1\n",
      "collected 2 items                                                              \u001b[0m\u001b[1m\n",
      "\n",
      "tests.py ..\u001b[36m                                                              [100%]\u001b[0m\n",
      "\n",
      "\u001b[32m\u001b[1m=========================== 2 passed in 0.03 seconds ===========================\u001b[0m\n"
     ]
    }
   ],
   "source": [
    "!py.test tests.py"
   ]
  },
  {
   "cell_type": "markdown",
   "metadata": {},
   "source": [
    "## Your solution"
   ]
  },
  {
   "cell_type": "code",
   "execution_count": 152,
   "metadata": {},
   "outputs": [
    {
     "name": "stdout",
     "output_type": "stream",
     "text": [
      "Overwriting exercise.py\n"
     ]
    }
   ],
   "source": [
    "%%file exercise.py\n",
    "\n",
    "\n",
    "def find_offset(filepath, term):\n",
    "    pass\n",
    "\n",
    "\n",
    "def read_between(filepath, start, stop):\n",
    "    pass\n"
   ]
  },
  {
   "cell_type": "markdown",
   "metadata": {},
   "source": [
    "## The answer"
   ]
  },
  {
   "cell_type": "code",
   "execution_count": 154,
   "metadata": {},
   "outputs": [],
   "source": [
    "# !cat answer.py"
   ]
  },
  {
   "cell_type": "code",
   "execution_count": null,
   "metadata": {},
   "outputs": [],
   "source": []
  }
 ],
 "metadata": {
  "kernelspec": {
   "display_name": "Python 3",
   "language": "python",
   "name": "python3"
  },
  "language_info": {
   "codemirror_mode": {
    "name": "ipython",
    "version": 3
   },
   "file_extension": ".py",
   "mimetype": "text/x-python",
   "name": "python",
   "nbconvert_exporter": "python",
   "pygments_lexer": "ipython3",
   "version": "3.6.5"
  }
 },
 "nbformat": 4,
 "nbformat_minor": 2
}
