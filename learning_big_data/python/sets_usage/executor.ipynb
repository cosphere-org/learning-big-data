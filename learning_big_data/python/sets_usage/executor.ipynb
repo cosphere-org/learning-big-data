{
 "cells": [
  {
   "cell_type": "markdown",
   "metadata": {},
   "source": [
    "## Challenge\n",
    "\n",
    "Implement the following functions using python `sets`:\n",
    "- `find_unique` - accepts and iterable with possible duplicates and returns only unique elements\n",
    "- `equal_no_matter_order` - equals to boolean which informs us if two iterables are the same\n",
    "- `unique_intersection` - returns common unique elements of two iterables\n",
    "- `unique_union` - returns new list with all unique elements coming from both supplied iterables\n",
    "- `unique_diff` - returns the unique diff of two iterables\n",
    "\n",
    "> Extra: implement the same using lists only and compare their performance using `%%timeit` magic"
   ]
  },
  {
   "cell_type": "code",
   "execution_count": 32,
   "metadata": {},
   "outputs": [
    {
     "name": "stdout",
     "output_type": "stream",
     "text": [
      "Overwriting tests.py\n"
     ]
    }
   ],
   "source": [
    "%%file tests.py\n",
    "\n",
    "from code_exercise import find_unique, equal_no_matter_order, unique_intersection, unique_union, unique_diff\n",
    "# from code_answer import find_unique, equal_no_matter_order, unique_intersection, unique_union, unique_diff\n",
    "\n",
    "\n",
    "def test_find_unique():\n",
    "    \n",
    "    assert find_unique([]) == []\n",
    "\n",
    "    # -- works with strings \n",
    "    assert find_unique(['a', 'a', 'b']) == ['a', 'b']\n",
    "\n",
    "    # -- works with numbers \n",
    "    assert find_unique([5, 5, 5.0]) == [5]\n",
    "    \n",
    "    # -- works with many items\n",
    "    assert find_unique([1, 3, 2, 2, 5]) == [1, 2, 3, 5]\n",
    "    \n",
    "\n",
    "def test_equal_no_matter_order():\n",
    "    \n",
    "    # -- works when already equal\n",
    "    assert equal_no_matter_order([1], [1]) is True\n",
    "    \n",
    "    # -- works for integer lists\n",
    "    assert equal_no_matter_order([1, 4, 5], [4, 5, 1]) is True \n",
    "\n",
    "    # -- works for strings\n",
    "    assert equal_no_matter_order('hello world', 'world hello') is True \n",
    "    \n",
    "    # -- is case sensitive\n",
    "    assert equal_no_matter_order('hello', 'Hello') is False\n",
    "    \n",
    "    \n",
    "def test_unique_intersection():\n",
    "    \n",
    "    # -- works when all in common\n",
    "    assert unique_intersection([1], [1]) == [1]\n",
    "    \n",
    "    # -- works when none in common\n",
    "    assert unique_intersection([1, 4, 5], [8, 9]) == []\n",
    "\n",
    "    # -- works on strings\n",
    "    assert unique_intersection('hello you', 'world hello') == [' ', 'e', 'h', 'l', 'o']   \n",
    "    \n",
    "    \n",
    "def test_unique_union():\n",
    "\n",
    "    # -- works when all in common\n",
    "    assert unique_union([1], [1]) == [1]\n",
    "    \n",
    "    # -- works when none in common\n",
    "    assert unique_union([1, 4, 5, 5], [8, 9]) == [1, 4, 5, 8, 9]    \n",
    "    \n",
    "    \n",
    "def test_unique_diff():\n",
    "    # -- works when all in common\n",
    "    assert unique_diff([1], [1]) == []\n",
    "    \n",
    "    # -- works when none in common\n",
    "    assert unique_diff([1, 4, 5, 5], [5, 9]) == [1, 4]            "
   ]
  },
  {
   "cell_type": "code",
   "execution_count": 35,
   "metadata": {},
   "outputs": [
    {
     "name": "stdout",
     "output_type": "stream",
     "text": [
      "\u001b[1m============================= test session starts ==============================\u001b[0m\n",
      "platform linux -- Python 3.6.5, pytest-3.8.2, py-1.6.0, pluggy-0.7.1\n",
      "rootdir: /home/maciej/projects/learning-big-data, inifile: pytest.ini\n",
      "plugins: pythonpath-0.7.1, mock-0.10.1, cov-2.5.1\n",
      "collected 5 items                                                              \u001b[0m\u001b[1m\n",
      "\n",
      "tests.py FFFFF\u001b[36m                                                           [100%]\u001b[0m\n",
      "\n",
      "=================================== FAILURES ===================================\n",
      "\u001b[31m\u001b[1m_______________________________ test_find_unique _______________________________\u001b[0m\n",
      "\n",
      "\u001b[1m    def test_find_unique():\u001b[0m\n",
      "\u001b[1m    \u001b[0m\n",
      "\u001b[1m>       assert find_unique([]) == []\u001b[0m\n",
      "\u001b[1m\u001b[31mE       assert None == []\u001b[0m\n",
      "\u001b[1m\u001b[31mE        +  where None = find_unique([])\u001b[0m\n",
      "\n",
      "\u001b[1m\u001b[31mtests.py\u001b[0m:8: AssertionError\n",
      "\u001b[31m\u001b[1m__________________________ test_equal_no_matter_order __________________________\u001b[0m\n",
      "\n",
      "\u001b[1m    def test_equal_no_matter_order():\u001b[0m\n",
      "\u001b[1m    \u001b[0m\n",
      "\u001b[1m        # -- works when already equal\u001b[0m\n",
      "\u001b[1m>       assert equal_no_matter_order([1], [1]) is True\u001b[0m\n",
      "\u001b[1m\u001b[31mE       assert None is True\u001b[0m\n",
      "\u001b[1m\u001b[31mE        +  where None = equal_no_matter_order([1], [1])\u001b[0m\n",
      "\n",
      "\u001b[1m\u001b[31mtests.py\u001b[0m:23: AssertionError\n",
      "\u001b[31m\u001b[1m___________________________ test_unique_intersection ___________________________\u001b[0m\n",
      "\n",
      "\u001b[1m    def test_unique_intersection():\u001b[0m\n",
      "\u001b[1m    \u001b[0m\n",
      "\u001b[1m        # -- works when all in common\u001b[0m\n",
      "\u001b[1m>       assert unique_intersection([1], [1]) == [1]\u001b[0m\n",
      "\u001b[1m\u001b[31mE       assert None == [1]\u001b[0m\n",
      "\u001b[1m\u001b[31mE        +  where None = unique_intersection([1], [1])\u001b[0m\n",
      "\n",
      "\u001b[1m\u001b[31mtests.py\u001b[0m:38: AssertionError\n",
      "\u001b[31m\u001b[1m______________________________ test_unique_union _______________________________\u001b[0m\n",
      "\n",
      "\u001b[1m    def test_unique_union():\u001b[0m\n",
      "\u001b[1m    \u001b[0m\n",
      "\u001b[1m        # -- works when all in common\u001b[0m\n",
      "\u001b[1m>       assert unique_union([1], [1]) == [1]\u001b[0m\n",
      "\u001b[1m\u001b[31mE       assert None == [1]\u001b[0m\n",
      "\u001b[1m\u001b[31mE        +  where None = unique_union([1], [1])\u001b[0m\n",
      "\n",
      "\u001b[1m\u001b[31mtests.py\u001b[0m:50: AssertionError\n",
      "\u001b[31m\u001b[1m_______________________________ test_unique_diff _______________________________\u001b[0m\n",
      "\n",
      "\u001b[1m    def test_unique_diff():\u001b[0m\n",
      "\u001b[1m        # -- works when all in common\u001b[0m\n",
      "\u001b[1m>       assert unique_diff([1], [1]) == []\u001b[0m\n",
      "\u001b[1m\u001b[31mE       assert None == []\u001b[0m\n",
      "\u001b[1m\u001b[31mE        +  where None = unique_diff([1], [1])\u001b[0m\n",
      "\n",
      "\u001b[1m\u001b[31mtests.py\u001b[0m:58: AssertionError\n",
      "\u001b[31m\u001b[1m=========================== 5 failed in 0.04 seconds ===========================\u001b[0m\n"
     ]
    }
   ],
   "source": [
    "!py.test tests.py"
   ]
  },
  {
   "cell_type": "markdown",
   "metadata": {},
   "source": [
    "## Your solution"
   ]
  },
  {
   "cell_type": "code",
   "execution_count": 30,
   "metadata": {},
   "outputs": [
    {
     "name": "stdout",
     "output_type": "stream",
     "text": [
      "Overwriting code_exercise.py\n"
     ]
    }
   ],
   "source": [
    "%%file code_exercise.py\n",
    "\n",
    "def find_unique(x):\n",
    "    # your code goes here\n",
    "    pass\n",
    "\n",
    "\n",
    "def equal_no_matter_order(x, y):\n",
    "    # your code goes here\n",
    "    pass\n",
    "\n",
    "\n",
    "def unique_intersection(x, y):\n",
    "    # your code goes here\n",
    "    pass\n",
    "    \n",
    "    \n",
    "def unique_union(x, y): \n",
    "    # your code goes here\n",
    "    pass\n",
    "    \n",
    "\n",
    "def unique_diff(x, y):\n",
    "    # your code goes here\n",
    "    pass   "
   ]
  },
  {
   "cell_type": "markdown",
   "metadata": {},
   "source": [
    "## Answer"
   ]
  },
  {
   "cell_type": "code",
   "execution_count": 31,
   "metadata": {},
   "outputs": [
    {
     "name": "stdout",
     "output_type": "stream",
     "text": [
      "Overwriting code_answer.py\n"
     ]
    }
   ],
   "source": [
    "%%file code_answer.py\n",
    "# !cat code_answer.py\n",
    "\n",
    "\n",
    "def find_unique(x):\n",
    "    return sorted(set(x))\n",
    "\n",
    "\n",
    "def equal_no_matter_order(x, y):\n",
    "    return set(x) == set(y)\n",
    "\n",
    "\n",
    "def unique_intersection(x, y):\n",
    "    return sorted(set(x) & set(y))\n",
    "    \n",
    "    \n",
    "def unique_union(x, y): \n",
    "    return sorted(set(x) | set(y))\n",
    "    \n",
    "\n",
    "def unique_diff(x, y):\n",
    "    return sorted(set(x) - set(y))    \n"
   ]
  }
 ],
 "metadata": {
  "kernelspec": {
   "display_name": "Python 3",
   "language": "python",
   "name": "python3"
  },
  "language_info": {
   "codemirror_mode": {
    "name": "ipython",
    "version": 3
   },
   "file_extension": ".py",
   "mimetype": "text/x-python",
   "name": "python",
   "nbconvert_exporter": "python",
   "pygments_lexer": "ipython3",
   "version": "3.6.5"
  }
 },
 "nbformat": 4,
 "nbformat_minor": 2
}
