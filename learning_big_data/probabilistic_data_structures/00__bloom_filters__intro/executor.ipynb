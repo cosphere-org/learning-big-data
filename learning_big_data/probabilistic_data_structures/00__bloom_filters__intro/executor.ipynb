{
 "cells": [
  {
   "cell_type": "markdown",
   "metadata": {},
   "source": [
    "## Challenge\n",
    "\n",
    "Create a `train_bloom_filter` function: \n",
    "- which returns a simple Bloom filter which is trained to recognize elements from the list provided as its input argument. \n",
    "- accepts extra argument `error_rate` for controlling amount of false positives\n",
    "\n",
    "Compare the time characteristic of Bloom Filter with that of a set. "
   ]
  },
  {
   "cell_type": "code",
   "execution_count": 1,
   "metadata": {},
   "outputs": [
    {
     "name": "stdout",
     "output_type": "stream",
     "text": [
      "Overwriting tests.py\n"
     ]
    }
   ],
   "source": [
    "%%file tests.py\n",
    "\n",
    "from unittest import TestCase\n",
    "from random import sample\n",
    "from string import ascii_lowercase\n",
    "\n",
    "from faker import Faker\n",
    "\n",
    "# from exercise import train_bloom_filter\n",
    "from answer import train_bloom_filter\n",
    "\n",
    "\n",
    "class BloomFilterTestCase(TestCase):\n",
    "    \n",
    "    def setUp(self):\n",
    "        self.faker = Faker()\n",
    "\n",
    "    def get_prefix(self):\n",
    "        return ''.join(sample(ascii_lowercase, 10))\n",
    "\n",
    "    def get_names(self, count):\n",
    "        return set([\n",
    "            f'{self.faker.name()} {self.get_prefix()}' \n",
    "            for _ in range(count)])\n",
    "\n",
    "    def test_train_bloom_filter__deals_with_simple_case(self):\n",
    "        \n",
    "        names = ['Alice', 'Bob', 'Charlers']\n",
    "        \n",
    "        bf = train_bloom_filter(names, 0.001)\n",
    "        \n",
    "        for name in names:\n",
    "            assert name in bf\n",
    "            \n",
    "        assert 'alice' not in bf\n",
    "        assert 'bobby' not in bf       \n",
    "        \n",
    "    def test_train_bloom_filter__deals_with_complex_case(self):\n",
    "        \n",
    "        names_0 = self.get_names(10 ** 4)\n",
    "        names_1 = self.get_names(10 ** 4)\n",
    "        \n",
    "        bf = train_bloom_filter(names_0, 0.01)\n",
    "        \n",
    "        for name in names_0:\n",
    "            assert name in bf\n",
    "            \n",
    "        negatives = names_1 - names_0\n",
    "        assert len(negatives) > 0\n",
    "        false_positives = sum([name in bf for name in negatives])         \n",
    "        assert false_positives > 0\n",
    "        assert abs(false_positives / 10 ** 4 - 0.01) < 0.01        "
   ]
  },
  {
   "cell_type": "code",
   "execution_count": 2,
   "metadata": {},
   "outputs": [
    {
     "name": "stdout",
     "output_type": "stream",
     "text": [
      "\u001b[1m============================= test session starts ==============================\u001b[0m\n",
      "platform linux -- Python 3.6.5, pytest-3.8.2, py-1.6.0, pluggy-0.7.1\n",
      "rootdir: /home/maciej/projects/learning-big-data, inifile: pytest.ini\n",
      "plugins: pythonpath-0.7.1, mock-0.10.1, cov-2.5.1\n",
      "collected 2 items                                                              \u001b[0m\u001b[1m\n",
      "\n",
      "tests.py ..\n",
      "\n",
      "\u001b[32m\u001b[1m=========================== 2 passed in 2.99 seconds ===========================\u001b[0m\n"
     ]
    }
   ],
   "source": [
    "!py.test -s tests.py"
   ]
  },
  {
   "cell_type": "markdown",
   "metadata": {},
   "source": [
    "## Your solution"
   ]
  },
  {
   "cell_type": "code",
   "execution_count": 46,
   "metadata": {},
   "outputs": [
    {
     "name": "stdout",
     "output_type": "stream",
     "text": [
      "Writing exercise.py\n"
     ]
    }
   ],
   "source": [
    "%%file exercise.py\n",
    "\n",
    "from pybloom_live import BloomFilter\n",
    "\n",
    "\n",
    "def train_bloom_filter(elements):\n",
    "    pass              "
   ]
  },
  {
   "cell_type": "markdown",
   "metadata": {},
   "source": [
    "## The answer"
   ]
  },
  {
   "cell_type": "code",
   "execution_count": 47,
   "metadata": {},
   "outputs": [],
   "source": [
    "# !cat answer.py"
   ]
  },
  {
   "cell_type": "code",
   "execution_count": null,
   "metadata": {},
   "outputs": [],
   "source": []
  }
 ],
 "metadata": {
  "kernelspec": {
   "display_name": "Python 3",
   "language": "python",
   "name": "python3"
  },
  "language_info": {
   "codemirror_mode": {
    "name": "ipython",
    "version": 3
   },
   "file_extension": ".py",
   "mimetype": "text/x-python",
   "name": "python",
   "nbconvert_exporter": "python",
   "pygments_lexer": "ipython3",
   "version": "3.6.5"
  }
 },
 "nbformat": 4,
 "nbformat_minor": 2
}
