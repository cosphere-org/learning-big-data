{
 "cells": [
  {
   "cell_type": "markdown",
   "metadata": {},
   "source": [
    "## Challenge\n",
    "\n",
    "Create a function called `calculate_error_rate` which accepts Bloom filter and list of true negatives (words against which Bloom filter was not trained) and returns an empirical estimate of `false_positive_error_rate`.  "
   ]
  },
  {
   "cell_type": "code",
   "execution_count": 32,
   "metadata": {},
   "outputs": [
    {
     "name": "stdout",
     "output_type": "stream",
     "text": [
      "Overwriting tests.py\n"
     ]
    }
   ],
   "source": [
    "%%file tests.py\n",
    "\n",
    "from unittest import TestCase\n",
    "\n",
    "from pybloom_live import BloomFilter\n",
    "\n",
    "from answer import calculate_error_rate\n",
    "# from exercise import calculate_error_rate\n",
    "\n",
    "\n",
    "class BloomFilterErrorRateTestCase(TestCase):\n",
    "    \n",
    "    def prepare_test_and_train(self, threshold_divider):\n",
    "\n",
    "        train = []\n",
    "        test = []\n",
    "        with open('./resources/top_1000_english_words.txt', 'r') as f:\n",
    "            for i, word in enumerate(f):\n",
    "                word = word.strip()\n",
    "\n",
    "                if i % threshold_divider == 0:\n",
    "                    test.append(word)\n",
    "\n",
    "                else:\n",
    "                    train.append(word)\n",
    "\n",
    "        return train, test\n",
    "    \n",
    "    def test_calculate_error_rate__small_test(self):\n",
    "        \n",
    "        # -- fetch test and train samples\n",
    "        train, test = self.prepare_test_and_train(10)\n",
    "        \n",
    "        # -- train Bloom filter\n",
    "        bf = BloomFilter(len(train), error_rate=0.1)\n",
    "        for word in train:\n",
    "            bf.add(word)\n",
    "        \n",
    "        assert round(calculate_error_rate(bf, test), 1) == 0.1\n",
    "        \n",
    "    def test_calculate_error_rate__large_test(self):\n",
    "        \n",
    "        # -- fetch test and train samples\n",
    "        train, test = self.prepare_test_and_train(2)\n",
    "        \n",
    "        # -- train Bloom filter\n",
    "        bf = BloomFilter(len(train), error_rate=0.1)\n",
    "        for word in train:\n",
    "            bf.add(word)\n",
    "        \n",
    "        assert round(calculate_error_rate(bf, test), 1) == 0.1        "
   ]
  },
  {
   "cell_type": "code",
   "execution_count": 33,
   "metadata": {},
   "outputs": [
    {
     "name": "stdout",
     "output_type": "stream",
     "text": [
      "\u001b[1m============================= test session starts ==============================\u001b[0m\r\n",
      "platform linux -- Python 3.6.5, pytest-3.8.2, py-1.6.0, pluggy-0.7.1\r\n",
      "rootdir: /home/maciej/projects/learning-big-data, inifile: pytest.ini\r\n",
      "plugins: pythonpath-0.7.1, mock-0.10.1, cov-2.5.1\r\n",
      "\u001b[1m\r",
      "collecting 0 items                                                             \u001b[0m\u001b[1m\r",
      "collecting 0 items                                                             \u001b[0m\u001b[1m\r",
      "collecting 2 items                                                             \u001b[0m\u001b[1m\r",
      "collecting 2 items                                                             \u001b[0m\u001b[1m\r",
      "collected 2 items                                                              \u001b[0m\r\n",
      "\r\n",
      "tests.py ..\r\n",
      "\r\n",
      "\u001b[32m\u001b[1m=========================== 2 passed in 0.04 seconds ===========================\u001b[0m\r\n"
     ]
    }
   ],
   "source": [
    "!py.test -s tests.py"
   ]
  },
  {
   "cell_type": "markdown",
   "metadata": {},
   "source": [
    "## Your solution"
   ]
  },
  {
   "cell_type": "code",
   "execution_count": 14,
   "metadata": {},
   "outputs": [
    {
     "name": "stdout",
     "output_type": "stream",
     "text": [
      "Overwriting exercise.py\n"
     ]
    }
   ],
   "source": [
    "%%file exercise.py\n",
    "\n",
    "def calculate_error_rate(bf, true_negatives):\n",
    "    pass              "
   ]
  },
  {
   "cell_type": "markdown",
   "metadata": {},
   "source": [
    "## The answer"
   ]
  },
  {
   "cell_type": "code",
   "execution_count": 35,
   "metadata": {},
   "outputs": [],
   "source": [
    "# !cat answer.py"
   ]
  },
  {
   "cell_type": "code",
   "execution_count": null,
   "metadata": {},
   "outputs": [],
   "source": []
  }
 ],
 "metadata": {
  "kernelspec": {
   "display_name": "Python 3",
   "language": "python",
   "name": "python3"
  },
  "language_info": {
   "codemirror_mode": {
    "name": "ipython",
    "version": 3
   },
   "file_extension": ".py",
   "mimetype": "text/x-python",
   "name": "python",
   "nbconvert_exporter": "python",
   "pygments_lexer": "ipython3",
   "version": "3.6.5"
  }
 },
 "nbformat": 4,
 "nbformat_minor": 2
}
