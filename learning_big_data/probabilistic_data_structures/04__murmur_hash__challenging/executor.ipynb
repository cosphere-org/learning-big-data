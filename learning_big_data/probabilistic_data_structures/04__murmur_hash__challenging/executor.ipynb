{
 "cells": [
  {
   "cell_type": "markdown",
   "metadata": {},
   "source": [
    "## Challenge\n",
    "\n",
    "Create the following functions:\n",
    "- `calculate_collisions_rate` which takes as an input list of elements and seed to be used for hash and calculates rate of collisions (same hash value coming from different inputs) for `MurmurHash3`.\n",
    "- `is_uniform` which takes as an input list of elements seed to be used with hash and calculates distribution of `MurmurHash3` values (as a naive test for uniformity use the fact that the mean of counts of various hash values should be close to `1`)"
   ]
  },
  {
   "cell_type": "code",
   "execution_count": 73,
   "metadata": {},
   "outputs": [
    {
     "name": "stdout",
     "output_type": "stream",
     "text": [
      "Overwriting tests.py\n"
     ]
    }
   ],
   "source": [
    "%%file tests.py\n",
    "\n",
    "from unittest import TestCase\n",
    "\n",
    "from answer import calculate_collisions_rate, is_uniform\n",
    "# from exercise import calculate_collisions_rate, is_uniform\n",
    "\n",
    "\n",
    "class MruMruChallengeTestCase(TestCase):\n",
    "    \n",
    "    def setUp(self):\n",
    "        self.words = []\n",
    "        with open('./resources/top_1000_english_words.txt', 'r') as f:\n",
    "            for word in f:\n",
    "                self.words.append(word.strip())\n",
    "                \n",
    "    def test_calculate_collisions_rate(self):\n",
    "        assert calculate_collisions_rate(self.words[:100], seed=10) == 0\n",
    "        assert calculate_collisions_rate(self.words[:500], seed=19) == 0.004        \n",
    "        assert calculate_collisions_rate(self.words, seed=190) == 0.002\n",
    "\n",
    "    def test_is_uniform(self):\n",
    "        assert is_uniform(self.words[:100], seed=10) is True\n",
    "        assert is_uniform(self.words[:500], seed=19) is True        \n",
    "        assert is_uniform(self.words, seed=190) is True\n",
    "        "
   ]
  },
  {
   "cell_type": "code",
   "execution_count": 74,
   "metadata": {},
   "outputs": [
    {
     "name": "stdout",
     "output_type": "stream",
     "text": [
      "\u001b[1m============================= test session starts ==============================\u001b[0m\n",
      "platform linux -- Python 3.6.5, pytest-3.8.2, py-1.6.0, pluggy-0.7.1\n",
      "rootdir: /home/maciej/projects/learning-big-data, inifile: pytest.ini\n",
      "plugins: pythonpath-0.7.1, mock-0.10.1, cov-2.5.1\n",
      "collected 2 items                                                              \u001b[0m\u001b[1m\n",
      "\n",
      "tests.py ..\n",
      "\n",
      "\u001b[32m\u001b[1m=========================== 2 passed in 0.03 seconds ===========================\u001b[0m\n"
     ]
    }
   ],
   "source": [
    "!py.test -s tests.py"
   ]
  },
  {
   "cell_type": "markdown",
   "metadata": {},
   "source": [
    "## Your solution"
   ]
  },
  {
   "cell_type": "code",
   "execution_count": 21,
   "metadata": {},
   "outputs": [
    {
     "name": "stdout",
     "output_type": "stream",
     "text": [
      "Writing exercise.py\n"
     ]
    }
   ],
   "source": [
    "%%file exercise.py\n",
    "\n",
    "import statistics\n",
    "\n",
    "import mmh3\n",
    "\n",
    "\n",
    "def calculate_collisions_rate(elements, seed):\n",
    "    pass\n",
    "\n",
    "\n",
    "def is_uniform(elements, seed):\n",
    "    pass\n"
   ]
  },
  {
   "cell_type": "markdown",
   "metadata": {},
   "source": [
    "## The answer"
   ]
  },
  {
   "cell_type": "code",
   "execution_count": 78,
   "metadata": {},
   "outputs": [],
   "source": [
    "# !cat answer.py"
   ]
  },
  {
   "cell_type": "code",
   "execution_count": null,
   "metadata": {},
   "outputs": [],
   "source": []
  }
 ],
 "metadata": {
  "kernelspec": {
   "display_name": "Python 3",
   "language": "python",
   "name": "python3"
  },
  "language_info": {
   "codemirror_mode": {
    "name": "ipython",
    "version": 3
   },
   "file_extension": ".py",
   "mimetype": "text/x-python",
   "name": "python",
   "nbconvert_exporter": "python",
   "pygments_lexer": "ipython3",
   "version": "3.6.5"
  }
 },
 "nbformat": 4,
 "nbformat_minor": 2
}
