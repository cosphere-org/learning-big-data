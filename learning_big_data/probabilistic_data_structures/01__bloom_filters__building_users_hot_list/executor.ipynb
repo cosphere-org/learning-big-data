{
 "cells": [
  {
   "cell_type": "markdown",
   "metadata": {},
   "source": [
    "## Challenge\n",
    "\n",
    "Create a `train_bloom_filter` function which retrieves `displayname`s from stackoverflow users (file `0.xml`) data. Use those names for training a Bloom filter, and save it under `resources` directory in a file called `hot_names_bloom_filter`. Notice that `train_bloom_filter` should returned an instance of trained Bloom filter."
   ]
  },
  {
   "cell_type": "code",
   "execution_count": 6,
   "metadata": {},
   "outputs": [],
   "source": [
    "%%bash\n",
    "\n",
    "# -- run it in order to fetch the data\n",
    "wget -P resources https://s3.eu-central-1.amazonaws.com/learning.big.data/stackoverflow-users/0.xml"
   ]
  },
  {
   "cell_type": "code",
   "execution_count": 24,
   "metadata": {},
   "outputs": [
    {
     "name": "stdout",
     "output_type": "stream",
     "text": [
      "Overwriting tests.py\n"
     ]
    }
   ],
   "source": [
    "%%file tests.py\n",
    "\n",
    "from unittest import TestCase\n",
    "from random import sample\n",
    "from string import ascii_letters\n",
    "\n",
    "from pybloom_live import BloomFilter\n",
    "\n",
    "# from exercise import row_to_dict, train_bloom_filter\n",
    "from answer import row_to_dict, train_bloom_filter\n",
    "\n",
    "\n",
    "class BloomFilterTestCase(TestCase):\n",
    "    \n",
    "    def setUp(self):\n",
    "        names = set()\n",
    "        with open('resources/0.xml', 'r') as f:\n",
    "            for line in f:\n",
    "                user = row_to_dict(line)\n",
    "                names.add(user['displayname'])\n",
    "\n",
    "        self.names = names\n",
    "    \n",
    "    def test_train_bloom_filter__directly(self):\n",
    "        bf = train_bloom_filter()\n",
    "        \n",
    "        for name in sample(self.names, 10):\n",
    "            assert name in bf\n",
    "            \n",
    "            prefix = ''.join(sample(ascii_letters, 10))\n",
    "            fake_name = f'{prefix}{name}'\n",
    "            assert fake_name not in bf\n",
    "\n",
    "    def test_train_bloom_filter__from_file(self):\n",
    "        with open('./resources/hot_names_bloom_filter', 'rb') as f:\n",
    "            bf = BloomFilter.fromfile(f)\n",
    "\n",
    "        for name in sample(self.names, 10):\n",
    "            assert name in bf\n",
    "            \n",
    "            prefix = ''.join(sample(ascii_letters, 10))\n",
    "            fake_name = f'{prefix}{name}'\n",
    "            assert fake_name not in bf"
   ]
  },
  {
   "cell_type": "code",
   "execution_count": 25,
   "metadata": {},
   "outputs": [
    {
     "name": "stdout",
     "output_type": "stream",
     "text": [
      "\u001b[1m============================= test session starts ==============================\u001b[0m\n",
      "platform linux -- Python 3.6.5, pytest-3.8.2, py-1.6.0, pluggy-0.7.1\n",
      "rootdir: /home/maciej/projects/learning-big-data, inifile: pytest.ini\n",
      "plugins: pythonpath-0.7.1, mock-0.10.1, cov-2.5.1\n",
      "collected 2 items                                                              \u001b[0m\u001b[1m\n",
      "\n",
      "tests.py ..\n",
      "\n",
      "\u001b[32m\u001b[1m========================== 2 passed in 12.75 seconds ===========================\u001b[0m\n"
     ]
    }
   ],
   "source": [
    "!py.test -s tests.py"
   ]
  },
  {
   "cell_type": "markdown",
   "metadata": {},
   "source": [
    "## Your solution"
   ]
  },
  {
   "cell_type": "code",
   "execution_count": 9,
   "metadata": {},
   "outputs": [
    {
     "name": "stdout",
     "output_type": "stream",
     "text": [
      "Writing exercise.py\n"
     ]
    }
   ],
   "source": [
    "%%file exercise.py\n",
    "\n",
    "import xmltodict\n",
    "from pybloom_live import BloomFilter\n",
    "\n",
    "\n",
    "def row_to_dict(row):\n",
    "    \"\"\"\n",
    "    NOTE: you can use this function to parse incoming xml rows into \n",
    "    python dicts\n",
    "    \n",
    "    \"\"\"\n",
    "    row = row.strip()\n",
    "    record = dict(xmltodict.parse(row)['row'])        \n",
    "\n",
    "    return {k.replace('@', '').lower(): v for k, v in record.items()}\n",
    "\n",
    "\n",
    "def train_bloom_filter():\n",
    "    pass             "
   ]
  },
  {
   "cell_type": "markdown",
   "metadata": {},
   "source": [
    "## The answer"
   ]
  },
  {
   "cell_type": "code",
   "execution_count": 2,
   "metadata": {},
   "outputs": [],
   "source": [
    "# !cat answer.py"
   ]
  },
  {
   "cell_type": "code",
   "execution_count": null,
   "metadata": {},
   "outputs": [],
   "source": []
  }
 ],
 "metadata": {
  "kernelspec": {
   "display_name": "Python 3",
   "language": "python",
   "name": "python3"
  },
  "language_info": {
   "codemirror_mode": {
    "name": "ipython",
    "version": 3
   },
   "file_extension": ".py",
   "mimetype": "text/x-python",
   "name": "python",
   "nbconvert_exporter": "python",
   "pygments_lexer": "ipython3",
   "version": "3.6.5"
  }
 },
 "nbformat": 4,
 "nbformat_minor": 2
}
