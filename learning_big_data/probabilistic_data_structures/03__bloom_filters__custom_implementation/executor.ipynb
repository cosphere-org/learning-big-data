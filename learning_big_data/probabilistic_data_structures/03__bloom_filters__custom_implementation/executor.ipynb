{
 "cells": [
  {
   "cell_type": "markdown",
   "metadata": {},
   "source": [
    "## Challenge\n",
    "\n",
    "Write your own implementation of Bloom filter class which:\n",
    "- accepts in the contructor `capacity` and `error_rate` \n",
    "- exposes method `add` - for adding new elements in the filter (accepts single argument `item`) and returns nothing\n",
    "- exposes method `__contains__` - which (accepts single argument `item`) and returns Boolean (BTW: this is a python's special method name allowing us to use `in` operator for testing if an item is in Bloom filter or not)\n",
    "- uses MurMurHash3 (python package `mmh3`) for hashing\n",
    "- number of hash functions and size is calculated using optimal formulas (store them under `size` and `hash_count` instance attributes)\n",
    "- users `bitarray` for storing the bit vector"
   ]
  },
  {
   "cell_type": "code",
   "execution_count": 36,
   "metadata": {},
   "outputs": [
    {
     "name": "stdout",
     "output_type": "stream",
     "text": [
      "Overwriting tests.py\n"
     ]
    }
   ],
   "source": [
    "%%file tests.py\n",
    "\n",
    "from unittest import TestCase\n",
    "\n",
    "from answer import BloomFilter\n",
    "# from exercise import BloomFilter\n",
    "\n",
    "\n",
    "class BloomFilterTestCase(TestCase):\n",
    "    \n",
    "    def test__init__size__is_optimal(self):\n",
    "        assert BloomFilter(10, 0.01).size == 95\n",
    "        assert BloomFilter(100, 0.001).size == 1437\n",
    "        assert BloomFilter(10000, 0.001).size == 143775\n",
    "        \n",
    "    def test__init__hash_count__is_optimal(self):\n",
    "        assert BloomFilter(10, 0.01).hash_count == 6\n",
    "        assert BloomFilter(100, 0.001).hash_count == 9\n",
    "        assert BloomFilter(10000, 0.001).hash_count == 9\n",
    "        \n",
    "    def test_add_and_contain_work(self):\n",
    "        bf = BloomFilter(10, 0.01)\n",
    "        for word in ['Alice', 'Bob', 'Charles']:\n",
    "            bf.add(word)\n",
    "            assert word in bf \n",
    "        \n",
    "        for word in ['alice', 'bob', 'charles']:\n",
    "            assert word not in bf                 "
   ]
  },
  {
   "cell_type": "code",
   "execution_count": 37,
   "metadata": {},
   "outputs": [
    {
     "name": "stdout",
     "output_type": "stream",
     "text": [
      "\u001b[1m============================= test session starts ==============================\u001b[0m\r\n",
      "platform linux -- Python 3.6.5, pytest-3.8.2, py-1.6.0, pluggy-0.7.1\r\n",
      "rootdir: /home/maciej/projects/learning-big-data, inifile: pytest.ini\r\n",
      "plugins: pythonpath-0.7.1, mock-0.10.1, cov-2.5.1\r\n",
      "\u001b[1m\r",
      "collecting 0 items                                                             \u001b[0m\u001b[1m\r",
      "collecting 0 items                                                             \u001b[0m\u001b[1m\r",
      "collecting 3 items                                                             \u001b[0m\u001b[1m\r",
      "collecting 3 items                                                             \u001b[0m\u001b[1m\r",
      "collected 3 items                                                              \u001b[0m\r\n",
      "\r\n",
      "tests.py ...\r\n",
      "\r\n",
      "\u001b[32m\u001b[1m=========================== 3 passed in 0.02 seconds ===========================\u001b[0m\r\n"
     ]
    }
   ],
   "source": [
    "!py.test -s tests.py"
   ]
  },
  {
   "cell_type": "markdown",
   "metadata": {},
   "source": [
    "## Your solution"
   ]
  },
  {
   "cell_type": "code",
   "execution_count": 38,
   "metadata": {},
   "outputs": [
    {
     "name": "stdout",
     "output_type": "stream",
     "text": [
      "Writing exercise.py\n"
     ]
    }
   ],
   "source": [
    "%%file exercise.py\n",
    "\n",
    "import math \n",
    "import mmh3 \n",
    "from bitarray import bitarray \n",
    "\n",
    "\n",
    "class BloomFilter: \n",
    "    \n",
    "    def __init__(self, capacity, error_rate):         \n",
    "        self.size = self.get_size(capacity, error_rate)         \n",
    "        self.hash_count = self.get_hash_count(self.size, capacity) \n",
    "  \n",
    "        self.bit_array = bitarray(self.size) \n",
    "        self.bit_array.setall(0) \n",
    "  \n",
    "    def add(self, item): \n",
    "        pass\n",
    "    \n",
    "    def __contains__(self, item): \n",
    "        pass\n",
    "    \n",
    "    def get_size(self, n, p): \n",
    "        pass\n",
    "    \n",
    "    def get_hash_count(self, m, n): \n",
    "        pass "
   ]
  },
  {
   "cell_type": "markdown",
   "metadata": {},
   "source": [
    "## The answer"
   ]
  },
  {
   "cell_type": "code",
   "execution_count": 42,
   "metadata": {},
   "outputs": [],
   "source": [
    "# !cat answer.py"
   ]
  },
  {
   "cell_type": "code",
   "execution_count": null,
   "metadata": {},
   "outputs": [],
   "source": []
  }
 ],
 "metadata": {
  "kernelspec": {
   "display_name": "Python 3",
   "language": "python",
   "name": "python3"
  },
  "language_info": {
   "codemirror_mode": {
    "name": "ipython",
    "version": 3
   },
   "file_extension": ".py",
   "mimetype": "text/x-python",
   "name": "python",
   "nbconvert_exporter": "python",
   "pygments_lexer": "ipython3",
   "version": "3.6.5"
  }
 },
 "nbformat": 4,
 "nbformat_minor": 2
}
