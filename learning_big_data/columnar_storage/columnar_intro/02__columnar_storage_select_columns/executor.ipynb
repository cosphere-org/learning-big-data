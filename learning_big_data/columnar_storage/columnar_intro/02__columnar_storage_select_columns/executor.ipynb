{
 "cells": [
  {
   "cell_type": "markdown",
   "metadata": {},
   "source": [
    "## Challenge\n",
    "\n",
    "Given columnar data file with following format write a function that given record ids, and list of selected_columns returns selected columns of records with those ids.\n",
    "\n",
    "All tests in `tests.py` should be passing"
   ]
  },
  {
   "cell_type": "code",
   "execution_count": 1,
   "metadata": {},
   "outputs": [
    {
     "name": "stdout",
     "output_type": "stream",
     "text": [
      "Overwriting resources/employees.vicol1\n"
     ]
    }
   ],
   "source": [
    "%%file resources/employees.vicol1\n",
    "{\"columns\": {\"first_name\": {\"start\": 0, \"end\": 65}, \"last_name\": {\"start\": 65, \"end\": 135}, \"department\": {\"start\": 135, \"end\": 214}, \"salary\": {\"start\": 214, \"end\": 270}, \"age\": {\"start\": 270, \"end\": 299}}}\n",
    "Cindy,Manuel,Elizabeth,Betty,Michael,Grace,Julia,Donna,Billy,ToddKlein,Gross,Garcia,Johnson,Davis,Thomas,Carter,Fitzgerald,Lang,EverettBigData,Embedded,Embedded,Embedded,BigData,HR,BigData,Embedded,BigData,Embedded16955,21162,4760,13358,9431,21236,17512,14909,24312,789523,21,43,29,34,37,33,25,33,44"
   ]
  },
  {
   "cell_type": "code",
   "execution_count": 7,
   "metadata": {},
   "outputs": [
    {
     "name": "stdout",
     "output_type": "stream",
     "text": [
      "Overwriting tests.py\n"
     ]
    }
   ],
   "source": [
    "%%file tests.py\n",
    "\n",
    "from exercise import select_columns\n",
    "# from answer import select_columns\n",
    "\n",
    "\n",
    "def test_select_columns_one_id():\n",
    "    records = select_columns('./resources/employees.vicol1', [0], ['first_name'])\n",
    "    assert records == [{ 'first_name': 'Cindy' }]\n",
    "    \n",
    "def test_select_columns_multiple_ids():\n",
    "    records = select_columns('./resources/employees.vicol1', [2,3], ['last_name', 'department'])\n",
    "    assert records == [\n",
    "        { 'last_name': 'Garcia', 'department': 'Embedded' }, \n",
    "        { 'last_name': 'Johnson', 'department': 'Embedded' },\n",
    "    ]\n",
    "\n",
    "    "
   ]
  },
  {
   "cell_type": "code",
   "execution_count": 8,
   "metadata": {},
   "outputs": [
    {
     "name": "stdout",
     "output_type": "stream",
     "text": [
      "\u001b[1m============================= test session starts ==============================\u001b[0m\r\n",
      "platform linux -- Python 3.6.5, pytest-3.8.2, py-1.6.0, pluggy-0.7.1\r\n",
      "rootdir: /home/maciej/projects/learning-big-data, inifile: pytest.ini\r\n",
      "plugins: pythonpath-0.7.1, mock-0.10.1, cov-2.5.1\r\n",
      "\u001b[1m\r",
      "collecting 0 items                                                             \u001b[0m\u001b[1m\r",
      "collecting 2 items                                                             \u001b[0m\u001b[1m\r",
      "collected 2 items                                                              \u001b[0m\r\n",
      "\r\n",
      "tests.py ..\u001b[36m                                                              [100%]\u001b[0m\r\n",
      "\r\n",
      "\u001b[32m\u001b[1m=========================== 2 passed in 0.02 seconds ===========================\u001b[0m\r\n"
     ]
    }
   ],
   "source": [
    "!py.test tests.py"
   ]
  },
  {
   "cell_type": "markdown",
   "metadata": {},
   "source": [
    "## Your solution"
   ]
  },
  {
   "cell_type": "code",
   "execution_count": 56,
   "metadata": {},
   "outputs": [
    {
     "name": "stdout",
     "output_type": "stream",
     "text": [
      "Overwriting exercise.py\n"
     ]
    }
   ],
   "source": [
    "%%file exercise.py\n",
    "import json \n",
    "\n",
    "def select_columns(path, indices, select_columns):\n",
    "    with open(path, 'r') as f:  \n",
    "        pass\n",
    "        # your code goes here\n",
    "    "
   ]
  },
  {
   "cell_type": "markdown",
   "metadata": {},
   "source": [
    "## Answer"
   ]
  },
  {
   "cell_type": "code",
   "execution_count": 9,
   "metadata": {},
   "outputs": [],
   "source": [
    "# !cat answer.py"
   ]
  },
  {
   "cell_type": "code",
   "execution_count": null,
   "metadata": {},
   "outputs": [],
   "source": []
  }
 ],
 "metadata": {
  "kernelspec": {
   "display_name": "Python 3",
   "language": "python",
   "name": "python3"
  },
  "language_info": {
   "codemirror_mode": {
    "name": "ipython",
    "version": 3
   },
   "file_extension": ".py",
   "mimetype": "text/x-python",
   "name": "python",
   "nbconvert_exporter": "python",
   "pygments_lexer": "ipython3",
   "version": "3.6.5"
  }
 },
 "nbformat": 4,
 "nbformat_minor": 2
}
