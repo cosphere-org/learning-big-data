{
 "cells": [
  {
   "cell_type": "markdown",
   "metadata": {},
   "source": [
    "## Challenge\n",
    "\n",
    "Given columnar data format vicol1 compare its reading performance with CSV table. \n",
    "Check select and where clause."
   ]
  },
  {
   "cell_type": "code",
   "execution_count": 4,
   "metadata": {},
   "outputs": [],
   "source": [
    "from vicol1_table import ViCol1TableReader, ViCol1TableWriter\n",
    "from csv_table import CsvTable\n",
    "\n",
    "from faker import Faker\n",
    "faker = Faker('en')\n",
    "\n",
    "import numpy as np\n"
   ]
  },
  {
   "cell_type": "markdown",
   "metadata": {},
   "source": [
    "# Prepare data\n",
    "\n",
    "Prepare 1000000 records with 20 columns and write them to employees.vicol & employees.csv."
   ]
  },
  {
   "cell_type": "code",
   "execution_count": 5,
   "metadata": {},
   "outputs": [],
   "source": [
    "def generate_employee(salary):\n",
    "    return {\n",
    "        'first_name': faker.first_name(), \n",
    "        'last_name': faker.last_name(), \n",
    "        'department': faker.random_element(elements=['Embedded','BigData','HR']), \n",
    "        'salary': salary,\n",
    "        'address': faker.street_address(),\n",
    "        'city': faker.city(),\n",
    "        'country': faker.country(),\n",
    "        'address2': faker.street_address(),\n",
    "        'city2': faker.city(),\n",
    "        'country2': faker.country(),\n",
    "        'notes': faker.catch_phrase(),\n",
    "        'age': faker.random_int(max=60,min=18),\n",
    "        'birth_location': faker.city(),\n",
    "        'points': faker.random_int(min=0, max=300),\n",
    "        'gender': faker.random_element(elements=['Female', 'Male']),\n",
    "        'mothers_name': faker.first_name_female(),\n",
    "        'fathers_name': faker.last_name_male(),\n",
    "        'ID': faker.uuid4(),\n",
    "        'pets_name': faker.first_name(),\n",
    "        'drivers_license': faker.random_element(elements=['B', 'C', 'C+E', 'None'])\n",
    "    }"
   ]
  },
  {
   "cell_type": "code",
   "execution_count": 36,
   "metadata": {},
   "outputs": [],
   "source": [
    "# generate employees\n",
    "\n",
    "salaries = np.random.normal(15000, 4000, 1000000)\n",
    "employees = []\n",
    "for salary in salaries:\n",
    "    employees.append(generate_employee(salary))\n",
    "\n",
    "# write vicol1\n",
    "        \n",
    "with open('resources/employees.vicol1', 'w') as f:\n",
    "    f.write('{\"columns\":{\"first_name\":{\"start\":0,\"end\":0},\"last_name\":{\"start\":0,\"end\":0},\"department\":{\"start\":0,\"end\":0},\"salary\":{\"start\":0,\"end\":0},\"address\":{\"start\":0,\"end\":0},\"city\":{\"start\":0,\"end\":0},\"country\":{\"start\":0,\"end\":0},\"address2\":{\"start\":0,\"end\":0},\"city2\":{\"start\":0,\"end\":0},\"country2\":{\"start\":0,\"end\":0},\"notes\":{\"start\":0,\"end\":0},\"age\":{\"start\":0,\"end\":0},\"birth_location\":{\"start\":0,\"end\":0},\"points\":{\"start\":0,\"end\":0},\"gender\":{\"start\":0,\"end\":0},\"mothers_name\":{\"start\":0,\"end\":0},\"fathers_name\":{\"start\":0,\"end\":0},\"ID\":{\"start\":0,\"end\":0},\"pets_name\":{\"start\":0,\"end\":0},\"drivers_license\":{\"start\":0,\"end\":0}}}\\n')\n",
    "        \n",
    "ViCol1TableWriter('./resources/employees.vicol1').insert_many(employees)\n",
    "\n",
    "print('ViCol1 written successfully')\n",
    "\n",
    "# write csv \n",
    "\n",
    "import csv\n",
    "with open('resources/employees.csv', 'w') as f:\n",
    "    w = csv.DictWriter(f, employees[0].keys())\n",
    "    w.writeheader()\n",
    "    w.writerows(employees)\n",
    "    \n",
    "    \n",
    "print('CSV written successfully')"
   ]
  },
  {
   "cell_type": "code",
   "execution_count": 25,
   "metadata": {},
   "outputs": [],
   "source": [
    "from csv_table import CsvTable\n",
    "\n",
    "def profile_csv():\n",
    "    (CsvTable('./resources/employees.csv')\n",
    "        .where(lambda x: x['department'] == 'BigData')\n",
    "        .select('salary')\n",
    "        .collect_silent())\n",
    "\n"
   ]
  },
  {
   "cell_type": "code",
   "execution_count": 26,
   "metadata": {},
   "outputs": [],
   "source": [
    "from vicol1_table import ViCol1TableReader\n",
    "\n",
    "def profile_vicol1():\n",
    "    (ViCol1TableReader('resources/employees.vicol1')\n",
    "     .where('department', lambda x: x == 'BigData')\n",
    "     .select(['salary'])\n",
    "     .execute_silent())"
   ]
  },
  {
   "cell_type": "markdown",
   "metadata": {},
   "source": [
    "# Time"
   ]
  },
  {
   "cell_type": "code",
   "execution_count": 30,
   "metadata": {},
   "outputs": [],
   "source": [
    "%%timeit\n",
    "profile_vicol1()"
   ]
  },
  {
   "cell_type": "code",
   "execution_count": 31,
   "metadata": {},
   "outputs": [],
   "source": [
    "%%timeit\n",
    "profile_csv()"
   ]
  },
  {
   "cell_type": "markdown",
   "metadata": {},
   "source": [
    "# Memory"
   ]
  },
  {
   "cell_type": "code",
   "execution_count": 32,
   "metadata": {},
   "outputs": [],
   "source": [
    "%load_ext memory_profiler"
   ]
  },
  {
   "cell_type": "code",
   "execution_count": 34,
   "metadata": {},
   "outputs": [],
   "source": [
    "%memit profile_csv()"
   ]
  },
  {
   "cell_type": "code",
   "execution_count": 35,
   "metadata": {},
   "outputs": [],
   "source": [
    "%memit profile_vicol1()"
   ]
  }
 ],
 "metadata": {
  "kernelspec": {
   "display_name": "Python 3",
   "language": "python",
   "name": "python3"
  },
  "language_info": {
   "codemirror_mode": {
    "name": "ipython",
    "version": 3
   },
   "file_extension": ".py",
   "mimetype": "text/x-python",
   "name": "python",
   "nbconvert_exporter": "python",
   "pygments_lexer": "ipython3",
   "version": "3.6.5"
  }
 },
 "nbformat": 4,
 "nbformat_minor": 2
}
