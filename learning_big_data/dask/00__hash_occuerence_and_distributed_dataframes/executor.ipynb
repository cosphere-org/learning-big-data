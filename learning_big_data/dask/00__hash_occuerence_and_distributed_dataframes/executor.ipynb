{
 "cells": [
  {
   "cell_type": "code",
   "execution_count": 1,
   "metadata": {},
   "outputs": [],
   "source": [
    "from itertools import product\n",
    "import random\n",
    "import string\n",
    "import math\n",
    "import time\n",
    "\n",
    "from dask.distributed import Client\n",
    "import dask.dataframe as dd\n",
    "\n",
    "client = Client()"
   ]
  },
  {
   "cell_type": "code",
   "execution_count": 2,
   "metadata": {},
   "outputs": [],
   "source": [
    "class Timer:\n",
    "      \n",
    "    def __enter__(self):\n",
    "        self.start = time.time()\n",
    "        \n",
    "    def __exit__(self, *args, **kwargs):\n",
    "        print('DURATION: {}'.format(time.time() - self.start))"
   ]
  },
  {
   "cell_type": "markdown",
   "metadata": {},
   "source": [
    "## Generate `hash_occurences.txt` & `user_hash_occurences.txt`"
   ]
  },
  {
   "cell_type": "code",
   "execution_count": 3,
   "metadata": {},
   "outputs": [],
   "source": [
    "HASH_OCCURENCE_COUNT = 10 ** 6\n",
    "APPROX_USER_COUNT = 10 ** 2\n",
    "\n",
    "all_hashes = product(string.digits + string.ascii_lowercase, repeat=32)\n",
    "\n",
    "with open('./resources/hash_occurences.txt', 'w') as f:\n",
    "    with open('./resources/user_hash_occurences.txt', 'w') as g:\n",
    "        for i in range(HASH_OCCURENCE_COUNT):\n",
    "            current_hash = ''.join(next(all_hashes))\n",
    "            \n",
    "            # -- all hashes\n",
    "            f.write('{hash}:{count}\\n'.format(\n",
    "                hash=current_hash,\n",
    "                count=random.randint(1, 10 ** 6)))       \n",
    "\n",
    "            # -- user hashes\n",
    "            if random.random() < APPROX_USER_COUNT / HASH_OCCURENCE_COUNT:\n",
    "                g.write('user{id}:{hash}\\n'.format(\n",
    "                    id=str(i).rjust(int(math.log10(HASH_OCCURENCE_COUNT)), '0'),\n",
    "                    hash=current_hash))                 "
   ]
  },
  {
   "cell_type": "markdown",
   "metadata": {},
   "source": [
    "### `hash_occurences.txt` properties"
   ]
  },
  {
   "cell_type": "code",
   "execution_count": 4,
   "metadata": {},
   "outputs": [
    {
     "name": "stdout",
     "output_type": "stream",
     "text": [
      "0000000000000000000000000000lfln:966514\r\n",
      "0000000000000000000000000000lflo:720694\r\n",
      "0000000000000000000000000000lflp:163569\r\n",
      "0000000000000000000000000000lflq:612657\r\n",
      "0000000000000000000000000000lflr:551880\r\n"
     ]
    }
   ],
   "source": [
    "!tail -n 5 resources/hash_occurences.txt"
   ]
  },
  {
   "cell_type": "code",
   "execution_count": 5,
   "metadata": {},
   "outputs": [
    {
     "name": "stdout",
     "output_type": "stream",
     "text": [
      "1000000 resources/hash_occurences.txt\r\n"
     ]
    }
   ],
   "source": [
    "!wc -l resources/hash_occurences.txt"
   ]
  },
  {
   "cell_type": "code",
   "execution_count": 6,
   "metadata": {},
   "outputs": [
    {
     "name": "stdout",
     "output_type": "stream",
     "text": [
      "-rw-rw-r-- 1 maciej maciej 39M lis 23 07:28 resources/hash_occurences.txt\r\n"
     ]
    }
   ],
   "source": [
    "!ls -alh resources/hash_occurences.txt"
   ]
  },
  {
   "cell_type": "markdown",
   "metadata": {},
   "source": [
    "###  `user_hash_occurences.txt` properties"
   ]
  },
  {
   "cell_type": "code",
   "execution_count": 7,
   "metadata": {},
   "outputs": [
    {
     "name": "stdout",
     "output_type": "stream",
     "text": [
      "user938739:0000000000000000000000000000k4c3\r\n",
      "user940289:0000000000000000000000000000k5j5\r\n",
      "user950030:0000000000000000000000000000kd1q\r\n",
      "user953776:0000000000000000000000000000kfxs\r\n",
      "user967790:0000000000000000000000000000kqr2\r\n"
     ]
    }
   ],
   "source": [
    "!tail -n 5 resources/user_hash_occurences.txt "
   ]
  },
  {
   "cell_type": "code",
   "execution_count": 8,
   "metadata": {},
   "outputs": [
    {
     "name": "stdout",
     "output_type": "stream",
     "text": [
      "114 resources/user_hash_occurences.txt\r\n"
     ]
    }
   ],
   "source": [
    "!wc -l resources/user_hash_occurences.txt"
   ]
  },
  {
   "cell_type": "code",
   "execution_count": 9,
   "metadata": {},
   "outputs": [
    {
     "name": "stdout",
     "output_type": "stream",
     "text": [
      "-rw-rw-r-- 1 maciej maciej 4,9K lis 23 07:28 resources/user_hash_occurences.txt\r\n"
     ]
    }
   ],
   "source": [
    "!ls -alh resources/user_hash_occurences.txt"
   ]
  },
  {
   "cell_type": "markdown",
   "metadata": {},
   "source": [
    "## Finding frequencies for our users hashes"
   ]
  },
  {
   "cell_type": "code",
   "execution_count": 10,
   "metadata": {},
   "outputs": [
    {
     "name": "stdout",
     "output_type": "stream",
     "text": [
      "DURATION: 1.6881103515625\n"
     ]
    }
   ],
   "source": [
    "with Timer():\n",
    "    hash_occurences_df = dd.read_table(\n",
    "        './resources/hash_occurences.txt', \n",
    "        sep=':',\n",
    "        names=['hash', 'frequency'])\n",
    "    hash_occurences_df = hash_occurences_df.set_index('hash')"
   ]
  },
  {
   "cell_type": "code",
   "execution_count": 11,
   "metadata": {},
   "outputs": [
    {
     "data": {
      "text/html": [
       "<div>\n",
       "<style scoped>\n",
       "    .dataframe tbody tr th:only-of-type {\n",
       "        vertical-align: middle;\n",
       "    }\n",
       "\n",
       "    .dataframe tbody tr th {\n",
       "        vertical-align: top;\n",
       "    }\n",
       "\n",
       "    .dataframe thead th {\n",
       "        text-align: right;\n",
       "    }\n",
       "</style>\n",
       "<table border=\"1\" class=\"dataframe\">\n",
       "  <thead>\n",
       "    <tr style=\"text-align: right;\">\n",
       "      <th></th>\n",
       "      <th>frequency</th>\n",
       "    </tr>\n",
       "    <tr>\n",
       "      <th>hash</th>\n",
       "      <th></th>\n",
       "    </tr>\n",
       "  </thead>\n",
       "  <tbody>\n",
       "    <tr>\n",
       "      <th>00000000000000000000000000000000</th>\n",
       "      <td>416519</td>\n",
       "    </tr>\n",
       "    <tr>\n",
       "      <th>00000000000000000000000000000001</th>\n",
       "      <td>935832</td>\n",
       "    </tr>\n",
       "    <tr>\n",
       "      <th>00000000000000000000000000000002</th>\n",
       "      <td>975667</td>\n",
       "    </tr>\n",
       "    <tr>\n",
       "      <th>00000000000000000000000000000003</th>\n",
       "      <td>648773</td>\n",
       "    </tr>\n",
       "    <tr>\n",
       "      <th>00000000000000000000000000000004</th>\n",
       "      <td>72207</td>\n",
       "    </tr>\n",
       "  </tbody>\n",
       "</table>\n",
       "</div>"
      ],
      "text/plain": [
       "                                  frequency\n",
       "hash                                       \n",
       "00000000000000000000000000000000     416519\n",
       "00000000000000000000000000000001     935832\n",
       "00000000000000000000000000000002     975667\n",
       "00000000000000000000000000000003     648773\n",
       "00000000000000000000000000000004      72207"
      ]
     },
     "execution_count": 11,
     "metadata": {},
     "output_type": "execute_result"
    }
   ],
   "source": [
    "hash_occurences_df.head()"
   ]
  },
  {
   "cell_type": "code",
   "execution_count": 12,
   "metadata": {},
   "outputs": [
    {
     "name": "stdout",
     "output_type": "stream",
     "text": [
      "DURATION: 0.11332082748413086\n"
     ]
    }
   ],
   "source": [
    "with Timer():\n",
    "    user_hash_occurences_df = dd.read_table(\n",
    "        './resources/user_hash_occurences.txt', \n",
    "        sep=':',\n",
    "        names=['username', 'hash'])\n",
    "    user_hash_occurences_df = user_hash_occurences_df.set_index('hash')"
   ]
  },
  {
   "cell_type": "code",
   "execution_count": 13,
   "metadata": {},
   "outputs": [
    {
     "data": {
      "text/html": [
       "<div>\n",
       "<style scoped>\n",
       "    .dataframe tbody tr th:only-of-type {\n",
       "        vertical-align: middle;\n",
       "    }\n",
       "\n",
       "    .dataframe tbody tr th {\n",
       "        vertical-align: top;\n",
       "    }\n",
       "\n",
       "    .dataframe thead th {\n",
       "        text-align: right;\n",
       "    }\n",
       "</style>\n",
       "<table border=\"1\" class=\"dataframe\">\n",
       "  <thead>\n",
       "    <tr style=\"text-align: right;\">\n",
       "      <th></th>\n",
       "      <th>username</th>\n",
       "    </tr>\n",
       "    <tr>\n",
       "      <th>hash</th>\n",
       "      <th></th>\n",
       "    </tr>\n",
       "  </thead>\n",
       "  <tbody>\n",
       "    <tr>\n",
       "      <th>0000000000000000000000000000021c</th>\n",
       "      <td>user002640</td>\n",
       "    </tr>\n",
       "    <tr>\n",
       "      <th>00000000000000000000000000000dy3</th>\n",
       "      <td>user018075</td>\n",
       "    </tr>\n",
       "    <tr>\n",
       "      <th>00000000000000000000000000000eyu</th>\n",
       "      <td>user019398</td>\n",
       "    </tr>\n",
       "    <tr>\n",
       "      <th>00000000000000000000000000000h7o</th>\n",
       "      <td>user022308</td>\n",
       "    </tr>\n",
       "    <tr>\n",
       "      <th>00000000000000000000000000000ha3</th>\n",
       "      <td>user022395</td>\n",
       "    </tr>\n",
       "  </tbody>\n",
       "</table>\n",
       "</div>"
      ],
      "text/plain": [
       "                                    username\n",
       "hash                                        \n",
       "0000000000000000000000000000021c  user002640\n",
       "00000000000000000000000000000dy3  user018075\n",
       "00000000000000000000000000000eyu  user019398\n",
       "00000000000000000000000000000h7o  user022308\n",
       "00000000000000000000000000000ha3  user022395"
      ]
     },
     "execution_count": 13,
     "metadata": {},
     "output_type": "execute_result"
    }
   ],
   "source": [
    "user_hash_occurences_df.head()"
   ]
  },
  {
   "cell_type": "code",
   "execution_count": 14,
   "metadata": {},
   "outputs": [
    {
     "name": "stdout",
     "output_type": "stream",
     "text": [
      "DURATION: 1.8877551555633545\n"
     ]
    }
   ],
   "source": [
    "with Timer():\n",
    "    user_frequency_df = user_hash_occurences_df.join(hash_occurences_df).compute()"
   ]
  },
  {
   "cell_type": "code",
   "execution_count": 15,
   "metadata": {},
   "outputs": [
    {
     "data": {
      "text/html": [
       "<div>\n",
       "<style scoped>\n",
       "    .dataframe tbody tr th:only-of-type {\n",
       "        vertical-align: middle;\n",
       "    }\n",
       "\n",
       "    .dataframe tbody tr th {\n",
       "        vertical-align: top;\n",
       "    }\n",
       "\n",
       "    .dataframe thead th {\n",
       "        text-align: right;\n",
       "    }\n",
       "</style>\n",
       "<table border=\"1\" class=\"dataframe\">\n",
       "  <thead>\n",
       "    <tr style=\"text-align: right;\">\n",
       "      <th></th>\n",
       "      <th>username</th>\n",
       "      <th>frequency</th>\n",
       "    </tr>\n",
       "    <tr>\n",
       "      <th>hash</th>\n",
       "      <th></th>\n",
       "      <th></th>\n",
       "    </tr>\n",
       "  </thead>\n",
       "  <tbody>\n",
       "    <tr>\n",
       "      <th>0000000000000000000000000000021c</th>\n",
       "      <td>user002640</td>\n",
       "      <td>244220</td>\n",
       "    </tr>\n",
       "    <tr>\n",
       "      <th>00000000000000000000000000000dy3</th>\n",
       "      <td>user018075</td>\n",
       "      <td>720893</td>\n",
       "    </tr>\n",
       "    <tr>\n",
       "      <th>00000000000000000000000000000eyu</th>\n",
       "      <td>user019398</td>\n",
       "      <td>611635</td>\n",
       "    </tr>\n",
       "    <tr>\n",
       "      <th>00000000000000000000000000000h7o</th>\n",
       "      <td>user022308</td>\n",
       "      <td>44856</td>\n",
       "    </tr>\n",
       "    <tr>\n",
       "      <th>00000000000000000000000000000ha3</th>\n",
       "      <td>user022395</td>\n",
       "      <td>875788</td>\n",
       "    </tr>\n",
       "    <tr>\n",
       "      <th>00000000000000000000000000000i1q</th>\n",
       "      <td>user023390</td>\n",
       "      <td>162516</td>\n",
       "    </tr>\n",
       "    <tr>\n",
       "      <th>00000000000000000000000000000jsg</th>\n",
       "      <td>user025648</td>\n",
       "      <td>673542</td>\n",
       "    </tr>\n",
       "    <tr>\n",
       "      <th>00000000000000000000000000000kew</th>\n",
       "      <td>user026456</td>\n",
       "      <td>739087</td>\n",
       "    </tr>\n",
       "    <tr>\n",
       "      <th>00000000000000000000000000000lxh</th>\n",
       "      <td>user028421</td>\n",
       "      <td>216339</td>\n",
       "    </tr>\n",
       "    <tr>\n",
       "      <th>00000000000000000000000000000oeb</th>\n",
       "      <td>user031619</td>\n",
       "      <td>264530</td>\n",
       "    </tr>\n",
       "  </tbody>\n",
       "</table>\n",
       "</div>"
      ],
      "text/plain": [
       "                                    username  frequency\n",
       "hash                                                   \n",
       "0000000000000000000000000000021c  user002640     244220\n",
       "00000000000000000000000000000dy3  user018075     720893\n",
       "00000000000000000000000000000eyu  user019398     611635\n",
       "00000000000000000000000000000h7o  user022308      44856\n",
       "00000000000000000000000000000ha3  user022395     875788\n",
       "00000000000000000000000000000i1q  user023390     162516\n",
       "00000000000000000000000000000jsg  user025648     673542\n",
       "00000000000000000000000000000kew  user026456     739087\n",
       "00000000000000000000000000000lxh  user028421     216339\n",
       "00000000000000000000000000000oeb  user031619     264530"
      ]
     },
     "execution_count": 15,
     "metadata": {},
     "output_type": "execute_result"
    }
   ],
   "source": [
    "user_frequency_df.head(10)"
   ]
  },
  {
   "cell_type": "code",
   "execution_count": 16,
   "metadata": {},
   "outputs": [],
   "source": [
    "user_frequency_df.to_csv('./resources/user_frequency.csv')"
   ]
  },
  {
   "cell_type": "code",
   "execution_count": 17,
   "metadata": {},
   "outputs": [
    {
     "name": "stdout",
     "output_type": "stream",
     "text": [
      "hash,username,frequency\r\n",
      "0000000000000000000000000000021c,user002640,244220\r\n",
      "00000000000000000000000000000dy3,user018075,720893\r\n",
      "00000000000000000000000000000eyu,user019398,611635\r\n",
      "00000000000000000000000000000h7o,user022308,44856\r\n",
      "00000000000000000000000000000ha3,user022395,875788\r\n",
      "00000000000000000000000000000i1q,user023390,162516\r\n",
      "00000000000000000000000000000jsg,user025648,673542\r\n",
      "00000000000000000000000000000kew,user026456,739087\r\n",
      "00000000000000000000000000000lxh,user028421,216339\r\n"
     ]
    }
   ],
   "source": [
    "!head -n 10 ./resources/user_frequency.csv"
   ]
  },
  {
   "cell_type": "markdown",
   "metadata": {},
   "source": [
    "## How to find the insecure password threshold frequency?"
   ]
  },
  {
   "cell_type": "code",
   "execution_count": 18,
   "metadata": {},
   "outputs": [
    {
     "data": {
      "text/plain": [
       "count    1000000.000000\n",
       "mean      500408.352068\n",
       "std       288412.939385\n",
       "min            1.000000\n",
       "25%       250691.750000\n",
       "50%       500523.000000\n",
       "75%       750107.000000\n",
       "max      1000000.000000\n",
       "dtype: float64"
      ]
     },
     "execution_count": 18,
     "metadata": {},
     "output_type": "execute_result"
    }
   ],
   "source": [
    "hash_occurences_df.frequency.describe().compute()"
   ]
  },
  {
   "cell_type": "code",
   "execution_count": 19,
   "metadata": {},
   "outputs": [
    {
     "data": {
      "text/plain": [
       "500523.0"
      ]
     },
     "execution_count": 19,
     "metadata": {},
     "output_type": "execute_result"
    }
   ],
   "source": [
    "hash_occurences_df.frequency.quantile(q=0.5).compute()"
   ]
  }
 ],
 "metadata": {
  "kernelspec": {
   "display_name": "Python 3",
   "language": "python",
   "name": "python3"
  },
  "language_info": {
   "codemirror_mode": {
    "name": "ipython",
    "version": 3
   },
   "file_extension": ".py",
   "mimetype": "text/x-python",
   "name": "python",
   "nbconvert_exporter": "python",
   "pygments_lexer": "ipython3",
   "version": "3.6.5"
  }
 },
 "nbformat": 4,
 "nbformat_minor": 2
}
