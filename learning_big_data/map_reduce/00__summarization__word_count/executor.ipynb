{
 "cells": [
  {
   "cell_type": "markdown",
   "metadata": {},
   "source": [
    "## Challenge\n",
    "\n",
    "Write a simple Map Reduce Job (using `mrjob`) that read a file and counts words occuring in it"
   ]
  },
  {
   "cell_type": "code",
   "execution_count": 1,
   "metadata": {},
   "outputs": [
    {
     "name": "stdout",
     "output_type": "stream",
     "text": [
      "Overwriting ./resources/input_text.txt\n"
     ]
    }
   ],
   "source": [
    "%%file ./resources/input_text.txt\n",
    "hello world how are you doing hello\n",
    "hello yes world"
   ]
  },
  {
   "cell_type": "code",
   "execution_count": 3,
   "metadata": {},
   "outputs": [
    {
     "name": "stdout",
     "output_type": "stream",
     "text": [
      "Overwriting tests.py\n"
     ]
    }
   ],
   "source": [
    "%%file tests.py\n",
    "\n",
    "# from exercise import WordCountJob\n",
    "from answer import WordCountJob\n",
    "\n",
    "\n",
    "def test_job():\n",
    "    job = WordCountJob(args=['./resources/input_text.txt'])\n",
    "\n",
    "    results = set()\n",
    "    with job.make_runner() as runner:\n",
    "        runner.run()\n",
    "        for key, value in job.parse_output(runner.cat_output()):\n",
    "            results.add((key, value))\n",
    "\n",
    "    assert results == set([\n",
    "        ('hello', 3),\n",
    "        ('world', 2),\n",
    "        ('how', 1),\n",
    "        ('are', 1),\n",
    "        ('you', 1),\n",
    "        ('doing', 1),\n",
    "        ('yes', 1),        \n",
    "    ])"
   ]
  },
  {
   "cell_type": "code",
   "execution_count": 4,
   "metadata": {},
   "outputs": [
    {
     "name": "stdout",
     "output_type": "stream",
     "text": [
      "\u001b[1m============================= test session starts ==============================\u001b[0m\n",
      "platform linux -- Python 3.6.5, pytest-3.8.2, py-1.6.0, pluggy-0.7.1\n",
      "rootdir: /home/maciej/projects/learning-big-data, inifile: pytest.ini\n",
      "plugins: pythonpath-0.7.1, mock-0.10.1, cov-2.5.1\n",
      "collected 1 item                                                               \u001b[0m\u001b[1m\n",
      "\n",
      "tests.py .\n",
      "\n",
      "\u001b[32m\u001b[1m=========================== 1 passed in 0.11 seconds ===========================\u001b[0m\n"
     ]
    }
   ],
   "source": [
    "!py.test -s tests.py"
   ]
  },
  {
   "cell_type": "markdown",
   "metadata": {},
   "source": [
    "## Your solution"
   ]
  },
  {
   "cell_type": "code",
   "execution_count": 2,
   "metadata": {},
   "outputs": [
    {
     "name": "stdout",
     "output_type": "stream",
     "text": [
      "Writing exercise.py\n"
     ]
    }
   ],
   "source": [
    "%%file exercise.py\n",
    "\n",
    "from mrjob.job import MRJob\n",
    "\n",
    "\n",
    "class WordCountJob(MRJob):\n",
    "\n",
    "    def mapper(self, key, line):\n",
    "        yield 'a', 'a'\n",
    "\n",
    "    def reducer(self, key, values):\n",
    "        yield 'a', 'a'"
   ]
  },
  {
   "cell_type": "markdown",
   "metadata": {},
   "source": [
    "## Answer"
   ]
  },
  {
   "cell_type": "code",
   "execution_count": 10,
   "metadata": {},
   "outputs": [],
   "source": [
    "# !cat answer.py"
   ]
  }
 ],
 "metadata": {
  "kernelspec": {
   "display_name": "Python 3",
   "language": "python",
   "name": "python3"
  },
  "language_info": {
   "codemirror_mode": {
    "name": "ipython",
    "version": 3
   },
   "file_extension": ".py",
   "mimetype": "text/x-python",
   "name": "python",
   "nbconvert_exporter": "python",
   "pygments_lexer": "ipython3",
   "version": "3.6.5"
  }
 },
 "nbformat": 4,
 "nbformat_minor": 2
}
