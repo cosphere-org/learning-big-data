{
 "cells": [
  {
   "cell_type": "markdown",
   "metadata": {},
   "source": [
    "## Challenge\n",
    "\n",
    "Create a Map Reduce job (using `mrjob`) which will filter out all stackoverflow users whose `Reputation` is above certain threshold (Users whom we perceive as the best ones)\n",
    "\n",
    "WARNING: Before starting to work on the main job your might consider running another one where we simply collect the distribution of `Reputations` to see what thereshold would be good for finding the best Users "
   ]
  },
  {
   "cell_type": "code",
   "execution_count": 5,
   "metadata": {},
   "outputs": [],
   "source": [
    "%%bash\n",
    "\n",
    "# -- run it in order to fetch the data\n",
    "wget -P resources https://s3.eu-central-1.amazonaws.com/learning.big.data/stackoverflow-users/0.xml"
   ]
  },
  {
   "cell_type": "code",
   "execution_count": 2,
   "metadata": {},
   "outputs": [
    {
     "name": "stdout",
     "output_type": "stream",
     "text": [
      "Overwriting tests.py\n"
     ]
    }
   ],
   "source": [
    "%%file tests.py\n",
    "\n",
    "import json\n",
    "\n",
    "# from exercise import ReputationJob\n",
    "from answer import ReputationJob\n",
    "\n",
    "\n",
    "def test_job():\n",
    "    job = ReputationJob(args=['./resources/0.xml'])\n",
    "\n",
    "    results = set()\n",
    "    with job.make_runner() as runner:\n",
    "        runner.run()\n",
    "        for key, value in job.parse_output(runner.cat_output()):\n",
    "            results.add((key, value))\n",
    "\n",
    "    assert len(results) == 49\n",
    "    for _, user in results:\n",
    "        assert int(json.loads(user)['reputation']) > 10000        "
   ]
  },
  {
   "cell_type": "code",
   "execution_count": 3,
   "metadata": {},
   "outputs": [
    {
     "name": "stdout",
     "output_type": "stream",
     "text": [
      "\u001b[1m============================= test session starts ==============================\u001b[0m\n",
      "platform linux -- Python 3.6.5, pytest-3.8.2, py-1.6.0, pluggy-0.7.1\n",
      "rootdir: /home/maciej/projects/learning-big-data, inifile: pytest.ini\n",
      "plugins: pythonpath-0.7.1, mock-0.10.1, cov-2.5.1\n",
      "collected 1 item                                                               \u001b[0m\u001b[1m\n",
      "\n",
      "tests.py .\n",
      "\n",
      "\u001b[32m\u001b[1m=========================== 1 passed in 4.80 seconds ===========================\u001b[0m\n"
     ]
    }
   ],
   "source": [
    "!py.test -s tests.py"
   ]
  },
  {
   "cell_type": "markdown",
   "metadata": {},
   "source": [
    "## Your solution"
   ]
  },
  {
   "cell_type": "code",
   "execution_count": 1,
   "metadata": {},
   "outputs": [
    {
     "name": "stdout",
     "output_type": "stream",
     "text": [
      "Writing exercise.py\n"
     ]
    }
   ],
   "source": [
    "%%file exercise.py\n",
    "\n",
    "from mrjob.job import MRJob\n",
    "\n",
    "\n",
    "class ReputationJob(MRJob):\n",
    "\n",
    "    def mapper(self, key, line):\n",
    "        yield 'a', 'a'"
   ]
  },
  {
   "cell_type": "markdown",
   "metadata": {},
   "source": [
    "## The answer"
   ]
  },
  {
   "cell_type": "code",
   "execution_count": 8,
   "metadata": {},
   "outputs": [],
   "source": [
    "# !cat answer.py"
   ]
  },
  {
   "cell_type": "code",
   "execution_count": null,
   "metadata": {},
   "outputs": [],
   "source": []
  }
 ],
 "metadata": {
  "kernelspec": {
   "display_name": "Python 3",
   "language": "python",
   "name": "python3"
  },
  "language_info": {
   "codemirror_mode": {
    "name": "ipython",
    "version": 3
   },
   "file_extension": ".py",
   "mimetype": "text/x-python",
   "name": "python",
   "nbconvert_exporter": "python",
   "pygments_lexer": "ipython3",
   "version": "3.6.5"
  }
 },
 "nbformat": 4,
 "nbformat_minor": 2
}
