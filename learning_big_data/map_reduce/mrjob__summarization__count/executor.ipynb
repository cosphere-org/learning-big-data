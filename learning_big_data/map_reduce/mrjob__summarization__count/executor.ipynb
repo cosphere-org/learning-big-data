{
 "cells": [
  {
   "cell_type": "markdown",
   "metadata": {},
   "source": [
    "## Challenge\n",
    "\n",
    "Write a simple Map Reduce Job (using `mrjob`) that read a file and counts words occuring in it"
   ]
  },
  {
   "cell_type": "code",
   "execution_count": 1,
   "metadata": {},
   "outputs": [
    {
     "name": "stdout",
     "output_type": "stream",
     "text": [
      "Overwriting ./resources/input_text.txt\n"
     ]
    }
   ],
   "source": [
    "%%file ./resources/input_text.txt\n",
    "hello world how are you doing hello\n",
    "hello yes world"
   ]
  },
  {
   "cell_type": "code",
   "execution_count": 6,
   "metadata": {},
   "outputs": [
    {
     "name": "stdout",
     "output_type": "stream",
     "text": [
      "Overwriting tests.py\n"
     ]
    }
   ],
   "source": [
    "%%file tests.py\n",
    "\n",
    "from exercise import WordCountJob\n",
    "# from answer import WordCountJob\n",
    "\n",
    "\n",
    "def test_job():\n",
    "    job = WordCountJob(args=['./resources/input_text.txt'])\n",
    "\n",
    "    results = set()\n",
    "    with job.make_runner() as runner:\n",
    "        runner.run()\n",
    "        for key, value in job.parse_output(runner.cat_output()):\n",
    "            results.add((key, value))\n",
    "\n",
    "    assert results == set([\n",
    "        ('hello', 3),\n",
    "        ('world', 2),\n",
    "        ('how', 1),\n",
    "        ('are', 1),\n",
    "        ('you', 1),\n",
    "        ('doing', 1),\n",
    "        ('yes', 1),        \n",
    "    ])"
   ]
  },
  {
   "cell_type": "code",
   "execution_count": 7,
   "metadata": {},
   "outputs": [
    {
     "name": "stdout",
     "output_type": "stream",
     "text": [
      "\u001b[1m============================= test session starts ==============================\u001b[0m\n",
      "platform linux -- Python 3.6.5, pytest-3.8.2, py-1.6.0, pluggy-0.7.1\n",
      "rootdir: /home/jovyan/work/map_reduce/mrjob__summarization__count, inifile:\n",
      "collected 1 item                                                               \u001b[0m\u001b[1m\u001b[1m\n",
      "\n",
      "tests.py F\n",
      "\n",
      "=================================== FAILURES ===================================\n",
      "\u001b[31m\u001b[1m___________________________________ test_job ___________________________________\u001b[0m\n",
      "\n",
      "\u001b[1m    def test_job():\u001b[0m\n",
      "\u001b[1m        job = WordCountJob(args=['./resources/input_text.txt'])\u001b[0m\n",
      "\u001b[1m    \u001b[0m\n",
      "\u001b[1m        results = set()\u001b[0m\n",
      "\u001b[1m        with job.make_runner() as runner:\u001b[0m\n",
      "\u001b[1m            runner.run()\u001b[0m\n",
      "\u001b[1m            for key, value in job.parse_output(runner.cat_output()):\u001b[0m\n",
      "\u001b[1m                results.add((key, value))\u001b[0m\n",
      "\u001b[1m    \u001b[0m\n",
      "\u001b[1m>       assert results == set([\u001b[0m\n",
      "\u001b[1m            ('hello', 3),\u001b[0m\n",
      "\u001b[1m            ('world', 2),\u001b[0m\n",
      "\u001b[1m            ('how', 1),\u001b[0m\n",
      "\u001b[1m            ('are', 1),\u001b[0m\n",
      "\u001b[1m            ('you', 1),\u001b[0m\n",
      "\u001b[1m            ('doing', 1),\u001b[0m\n",
      "\u001b[1m            ('yes', 1),\u001b[0m\n",
      "\u001b[1m        ])\u001b[0m\n",
      "\u001b[1m\u001b[31mE       AssertionError: assert {('a', 'a')} == {('are', 1), ('doing', ...', 2), ('yes', 1), ...}\u001b[0m\n",
      "\u001b[1m\u001b[31mE         Extra items in the left set:\u001b[0m\n",
      "\u001b[1m\u001b[31mE         ('a', 'a')\u001b[0m\n",
      "\u001b[1m\u001b[31mE         Extra items in the right set:\u001b[0m\n",
      "\u001b[1m\u001b[31mE         ('yes', 1)\u001b[0m\n",
      "\u001b[1m\u001b[31mE         ('are', 1)\u001b[0m\n",
      "\u001b[1m\u001b[31mE         ('you', 1)\u001b[0m\n",
      "\u001b[1m\u001b[31mE         ('world', 2)...\u001b[0m\n",
      "\u001b[1m\u001b[31mE         \u001b[0m\n",
      "\u001b[1m\u001b[31mE         ...Full output truncated (5 lines hidden), use '-vv' to show\u001b[0m\n",
      "\n",
      "\u001b[1m\u001b[31mtests.py\u001b[0m:15: AssertionError\n",
      "------------------------------ Captured log call -------------------------------\n",
      "conf.py                    343 WARNING  No configs specified for inline runner\n",
      "\u001b[31m\u001b[1m=========================== 1 failed in 0.18 seconds ===========================\u001b[0m\n"
     ]
    }
   ],
   "source": [
    "!py.test -s tests.py"
   ]
  },
  {
   "cell_type": "markdown",
   "metadata": {},
   "source": [
    "## Your solution"
   ]
  },
  {
   "cell_type": "code",
   "execution_count": 2,
   "metadata": {},
   "outputs": [
    {
     "name": "stdout",
     "output_type": "stream",
     "text": [
      "Writing exercise.py\n"
     ]
    }
   ],
   "source": [
    "%%file exercise.py\n",
    "\n",
    "from mrjob.job import MRJob\n",
    "\n",
    "\n",
    "class WordCountJob(MRJob):\n",
    "\n",
    "    def mapper(self, key, line):\n",
    "        yield 'a', 'a'\n",
    "\n",
    "    def reducer(self, key, values):\n",
    "        yield 'a', 'a'"
   ]
  },
  {
   "cell_type": "markdown",
   "metadata": {},
   "source": [
    "## Answer"
   ]
  },
  {
   "cell_type": "code",
   "execution_count": 10,
   "metadata": {},
   "outputs": [],
   "source": [
    "# !cat answer.py"
   ]
  }
 ],
 "metadata": {
  "kernelspec": {
   "display_name": "Python 3",
   "language": "python",
   "name": "python3"
  },
  "language_info": {
   "codemirror_mode": {
    "name": "ipython",
    "version": 3
   },
   "file_extension": ".py",
   "mimetype": "text/x-python",
   "name": "python",
   "nbconvert_exporter": "python",
   "pygments_lexer": "ipython3",
   "version": "3.6.5"
  }
 },
 "nbformat": 4,
 "nbformat_minor": 2
}
