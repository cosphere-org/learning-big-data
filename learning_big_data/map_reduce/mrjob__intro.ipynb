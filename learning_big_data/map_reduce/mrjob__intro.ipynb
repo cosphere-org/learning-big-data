{
 "cells": [
  {
   "cell_type": "code",
   "execution_count": 2,
   "metadata": {},
   "outputs": [
    {
     "name": "stdout",
     "output_type": "stream",
     "text": [
      "Overwriting mrjob__wordcount.py\n"
     ]
    }
   ],
   "source": [
    "%%file mrjob__wordcount.py\n",
    "from mrjob.job import MRJob\n",
    "\n",
    "class MRWordFrequencyCount(MRJob):\n",
    "\n",
    "    def mapper(self, _, line):\n",
    "        for word in line.split():        \n",
    "            yield word, 1\n",
    "\n",
    "    def reducer(self, key, values):\n",
    "        yield key, sum(values)"
   ]
  },
  {
   "cell_type": "code",
   "execution_count": 3,
   "metadata": {},
   "outputs": [
    {
     "name": "stdout",
     "output_type": "stream",
     "text": [
      "Overwriting hello_world.txt\n"
     ]
    }
   ],
   "source": [
    "%%file hello_world.txt\n",
    "hello world how are you doing hello\n",
    "hello yes world"
   ]
  },
  {
   "cell_type": "code",
   "execution_count": 5,
   "metadata": {},
   "outputs": [
    {
     "name": "stdout",
     "output_type": "stream",
     "text": [
      "Writing test_mrjob__intro.py\n"
     ]
    }
   ],
   "source": [
    "%%file test_mrjob__intro.py\n",
    "\n",
    "import mrjob__wordcount\n",
    "\n",
    "def test_job():\n",
    "    job = mrjob__wordcount.MRWordFrequencyCount(args=['hello_world.txt'])\n",
    "\n",
    "    results = set()\n",
    "    with job.make_runner() as runner:\n",
    "        runner.run()\n",
    "        for key, value in job.parse_output(runner.cat_output()):\n",
    "            results.add((key, value))\n",
    "\n",
    "    assert results == set([\n",
    "        ('hello', 3),\n",
    "        ('world', 2),\n",
    "        ('how', 1),\n",
    "        ('are', 1),\n",
    "        ('you', 1),\n",
    "        ('doing', 1),\n",
    "        ('yes', 1),        \n",
    "    ])"
   ]
  },
  {
   "cell_type": "code",
   "execution_count": 8,
   "metadata": {},
   "outputs": [
    {
     "name": "stdout",
     "output_type": "stream",
     "text": [
      "\u001b[1m============================= test session starts ==============================\u001b[0m\n",
      "platform linux -- Python 3.6.5, pytest-3.8.2, py-1.6.0, pluggy-0.7.1\n",
      "rootdir: /home/maciej/projects/learning-big-data, inifile: pytest.ini\n",
      "plugins: pythonpath-0.7.1, mock-0.10.1, cov-2.5.1\n",
      "collected 1 item                                                               \u001b[0m\u001b[1m\n",
      "\n",
      "test_mrjob__intro.py .\n",
      "\n",
      "\u001b[32m\u001b[1m=========================== 1 passed in 0.10 seconds ===========================\u001b[0m\n"
     ]
    }
   ],
   "source": [
    "!py.test -s test_mrjob__intro.py"
   ]
  }
 ],
 "metadata": {
  "kernelspec": {
   "display_name": "Python 3",
   "language": "python",
   "name": "python3"
  },
  "language_info": {
   "codemirror_mode": {
    "name": "ipython",
    "version": 3
   },
   "file_extension": ".py",
   "mimetype": "text/x-python",
   "name": "python",
   "nbconvert_exporter": "python",
   "pygments_lexer": "ipython3",
   "version": "3.6.5"
  }
 },
 "nbformat": 4,
 "nbformat_minor": 2
}
