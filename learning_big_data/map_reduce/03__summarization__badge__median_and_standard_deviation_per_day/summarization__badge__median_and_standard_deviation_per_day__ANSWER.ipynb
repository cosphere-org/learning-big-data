{
 "cells": [
  {
   "cell_type": "markdown",
   "metadata": {},
   "source": [
    "## TASK\n",
    "\n",
    "Create MapReduce Job which will calculate median and standard deviation of length of the stackoverflow badge name per day. If possible try to leverage the combiner optimization technique. \n",
    "\n",
    "NOTE: Before you try working on Map Reduce Job try to achieve the same using pure python and working only on a single `0.xml` (available in the current directory)."
   ]
  },
  {
   "cell_type": "code",
   "execution_count": 19,
   "metadata": {},
   "outputs": [],
   "source": [
    "from glob import glob\n",
    "from datetime import datetime\n",
    "from uuid import uuid4\n",
    "import statistics\n",
    "\n",
    "from delorean import parse\n",
    "import requests\n",
    "import xmltodict\n",
    "\n",
    "from job import Job\n",
    "\n",
    "\n",
    "get_stackoverflow_badges_uri = (\n",
    "    'https://s3.eu-central-1.amazonaws.com/learning.big.data/stackoverflow-badges/{}'.format)"
   ]
  },
  {
   "cell_type": "markdown",
   "metadata": {},
   "source": [
    "## Records Reader"
   ]
  },
  {
   "cell_type": "code",
   "execution_count": 4,
   "metadata": {},
   "outputs": [],
   "source": [
    "def record_reader(line):\n",
    "    record = dict(xmltodict.parse(line.decode('utf-8'))['row'])        \n",
    "    yield (\n",
    "        record['@Id'],\n",
    "        {k.replace('@', '').lower(): v for k, v in record.items()},\n",
    "    )            "
   ]
  },
  {
   "cell_type": "code",
   "execution_count": 5,
   "metadata": {},
   "outputs": [
    {
     "name": "stdout",
     "output_type": "stream",
     "text": [
      "[('26066242', {'id': '26066242', 'userid': '8125167', 'name': 'Supporter', 'date': '2017-11-28T19:34:25.047', 'class': '3', 'tagbased': 'False'}), ('26066243', {'id': '26066243', 'userid': '9006638', 'name': 'Supporter', 'date': '2017-11-28T19:34:25.047', 'class': '3', 'tagbased': 'False'})]\n"
     ]
    }
   ],
   "source": [
    "# -- test `record_reader`\n",
    "response = requests.get(get_stackoverflow_badges_uri('0.xml'), stream=True)\n",
    "\n",
    "records = []\n",
    "for line in response.iter_lines():\n",
    "    if line:\n",
    "        records.append(next(record_reader(line)))\n",
    "        \n",
    "print(records[:2])"
   ]
  },
  {
   "cell_type": "markdown",
   "metadata": {},
   "source": [
    "## Mapper"
   ]
  },
  {
   "cell_type": "code",
   "execution_count": 14,
   "metadata": {},
   "outputs": [],
   "source": [
    "def mapper(key, value):\n",
    "    yield (\n",
    "        parse(value['date']).date.strftime('%Y-%m-%d'), \n",
    "        len(value['name']),\n",
    "    )"
   ]
  },
  {
   "cell_type": "code",
   "execution_count": 15,
   "metadata": {},
   "outputs": [
    {
     "data": {
      "text/plain": [
       "[('2017-11-28', 9), ('2017-11-28', 9)]"
      ]
     },
     "execution_count": 15,
     "metadata": {},
     "output_type": "execute_result"
    }
   ],
   "source": [
    "# -- test mapper\n",
    "[next(mapper(key, value)) for key, value in records[:2]]"
   ]
  },
  {
   "cell_type": "markdown",
   "metadata": {},
   "source": [
    "## Reducer"
   ]
  },
  {
   "cell_type": "code",
   "execution_count": 23,
   "metadata": {},
   "outputs": [],
   "source": [
    "def reducer(key, values):\n",
    "    median = statistics.median(values)\n",
    "    \n",
    "    stddev = None\n",
    "    if len(values) > 1:\n",
    "        stddev = statistics.stdev(values)\n",
    "    \n",
    "    yield (key, {'median': median, 'stddev': stddev})"
   ]
  },
  {
   "cell_type": "code",
   "execution_count": 24,
   "metadata": {},
   "outputs": [
    {
     "data": {
      "text/plain": [
       "('2017-11-28', {'median': 5, 'stddev': 4.163331998932266})"
      ]
     },
     "execution_count": 24,
     "metadata": {},
     "output_type": "execute_result"
    }
   ],
   "source": [
    "# -- test reducer\n",
    "next(reducer(\n",
    "    '2017-11-28', \n",
    "    [11, 3, 5]))"
   ]
  },
  {
   "cell_type": "markdown",
   "metadata": {},
   "source": [
    "## Job"
   ]
  },
  {
   "cell_type": "code",
   "execution_count": 29,
   "metadata": {},
   "outputs": [
    {
     "name": "stdout",
     "output_type": "stream",
     "text": [
      "\n",
      "\n",
      "==========================================\n",
      "\n",
      "JOB ID: 582faa8e-d427-4ed2-a42d-a5d402fa10bc\n",
      "\n",
      "INPUT SIZE: 46239976\n",
      "\n",
      "OUTPUT PATH: /home/jovyan/work/map_reduce/.outputs/582faa8e-d427-4ed2-a42d-a5d402fa10bc\n",
      "\n",
      "EXECUTION TIME: 35.826\n",
      "\n",
      "MAX SHUFFLE SIZE: 1366064\n",
      "\n",
      "FILES:\n",
      "+----------------------------+--------------+\n",
      "|          filename          | size (bytes) |\n",
      "+============================+==============+\n",
      "| mapper_0__partition_0.json | 54252        |\n",
      "+----------------------------+--------------+\n",
      "| mapper_0__partition_1.json | 91398        |\n",
      "+----------------------------+--------------+\n",
      "| mapper_0__partition_2.json | 177546       |\n",
      "+----------------------------+--------------+\n",
      "| mapper_0__partition_3.json | 25636        |\n",
      "+----------------------------+--------------+\n",
      "| mapper_1__partition_0.json | 95311        |\n",
      "+----------------------------+--------------+\n",
      "| mapper_1__partition_1.json | 72618        |\n",
      "+----------------------------+--------------+\n",
      "| mapper_1__partition_2.json | 89980        |\n",
      "+----------------------------+--------------+\n",
      "| mapper_1__partition_3.json | 88924        |\n",
      "+----------------------------+--------------+\n",
      "| mapper_2__partition_0.json | 130497       |\n",
      "+----------------------------+--------------+\n",
      "| mapper_2__partition_1.json | 127245       |\n",
      "+----------------------------+--------------+\n",
      "| mapper_2__partition_2.json | 62604        |\n",
      "+----------------------------+--------------+\n",
      "| mapper_2__partition_3.json | 3669         |\n",
      "+----------------------------+--------------+\n",
      "| mapper_3__partition_0.json | 92307        |\n",
      "+----------------------------+--------------+\n",
      "| mapper_3__partition_1.json | 48668        |\n",
      "+----------------------------+--------------+\n",
      "| mapper_3__partition_2.json | 159433       |\n",
      "+----------------------------+--------------+\n",
      "| mapper_3__partition_3.json | 45976        |\n",
      "+----------------------------+--------------+\n",
      "| reducer_0.json             | 871          |\n",
      "+----------------------------+--------------+\n",
      "| reducer_1.json             | 836          |\n",
      "+----------------------------+--------------+\n",
      "| reducer_2.json             | 966          |\n",
      "+----------------------------+--------------+\n",
      "| reducer_3.json             | 774          |\n",
      "+----------------------------+--------------+\n",
      "        \n"
     ]
    }
   ],
   "source": [
    "Job(\n",
    "    input_uris=[\n",
    "        get_stackoverflow_badges_uri('0.xml'),\n",
    "        get_stackoverflow_badges_uri('1.xml'),\n",
    "        get_stackoverflow_badges_uri('2.xml'),   \n",
    "        get_stackoverflow_badges_uri('3.xml'),           \n",
    "    ], \n",
    "    record_reader=record_reader,\n",
    "    mapper=mapper,  \n",
    "    reducer=reducer,\n",
    ").run()"
   ]
  },
  {
   "cell_type": "code",
   "execution_count": 30,
   "metadata": {},
   "outputs": [
    {
     "name": "stdout",
     "output_type": "stream",
     "text": [
      "{\"key\": \"2017-11-29\", \"value\": {\"median\": 9, \"stddev\": 3.6499380305093303}}\r\n",
      "{\"key\": \"2017-06-07\", \"value\": {\"median\": 14, \"stddev\": null}}\r\n",
      "{\"key\": \"2017-03-12\", \"value\": {\"median\": 9, \"stddev\": 3.5674056089547146}}\r\n",
      "{\"key\": \"2017-04-12\", \"value\": {\"median\": 10.0, \"stddev\": 3.751857956304789}}\r\n",
      "{\"key\": \"2017-05-12\", \"value\": {\"median\": 10, \"stddev\": 3.634443025668692}}\r\n",
      "{\"key\": \"2016-09-27\", \"value\": {\"median\": 9, \"stddev\": 3.5544175299423855}}\r\n",
      "{\"key\": \"2016-07-29\", \"value\": {\"median\": 9.0, \"stddev\": 3.5938836835244454}}\r\n",
      "{\"key\": \"2016-07-09\", \"value\": {\"median\": 11, \"stddev\": null}}\r\n",
      "{\"key\": \"2016-07-28\", \"value\": {\"median\": 9, \"stddev\": 3.650370422739903}}\r\n",
      "{\"key\": \"2016-03-10\", \"value\": {\"median\": 9, \"stddev\": 3.6000884968531026}}\r\n",
      "{\"key\": \"2016-07-30\", \"value\": {\"median\": 9, \"stddev\": 3.389473575449482}}\r\n",
      "{\"key\": \"2016-01-08\", \"value\": {\"median\": 9.0, \"stddev\": 3.6520613406462354}}\r\n",
      "{\"key\": \"2015-11-19\", \"value\": {\"median\": 8.0, \"stddev\": 3.61529728895176}}\r\n"
     ]
    }
   ],
   "source": [
    "!head -n 100 ./.outputs/582faa8e-d427-4ed2-a42d-a5d402fa10bc/reducer_2.json"
   ]
  },
  {
   "cell_type": "code",
   "execution_count": null,
   "metadata": {},
   "outputs": [],
   "source": []
  }
 ],
 "metadata": {
  "kernelspec": {
   "display_name": "Python 3",
   "language": "python",
   "name": "python3"
  },
  "language_info": {
   "codemirror_mode": {
    "name": "ipython",
    "version": 3
   },
   "file_extension": ".py",
   "mimetype": "text/x-python",
   "name": "python",
   "nbconvert_exporter": "python",
   "pygments_lexer": "ipython3",
   "version": "3.6.5"
  }
 },
 "nbformat": 4,
 "nbformat_minor": 2
}
