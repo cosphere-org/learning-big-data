{
 "cells": [
  {
   "cell_type": "markdown",
   "metadata": {},
   "source": [
    "## Challenge\n",
    "\n",
    "Create MapReduce Job (using `mrjob`) which will calculate minimum and maximum date of certain badge record and their overall count per user. If possible try to leverage the combiner optimization technique. \n",
    "\n",
    "NOTE: Before you try working on Map Reduce Job try to achieve the same using pure python and working only on a single `0.xml` (available in the current directory)."
   ]
  },
  {
   "cell_type": "code",
   "execution_count": 6,
   "metadata": {},
   "outputs": [],
   "source": [
    "%%bash\n",
    "\n",
    "# -- run it in order to fetch the data\n",
    "wget -P resources https://s3.eu-central-1.amazonaws.com/learning.big.data/stackoverflow-badges/0.xml"
   ]
  },
  {
   "cell_type": "code",
   "execution_count": 13,
   "metadata": {},
   "outputs": [
    {
     "name": "stdout",
     "output_type": "stream",
     "text": [
      "Overwriting tests.py\n"
     ]
    }
   ],
   "source": [
    "%%file tests.py\n",
    "\n",
    "import json\n",
    "\n",
    "# from exercise import BadgeMinMaxCountPerUserJob\n",
    "from answer import BadgeMinMaxCountPerUserJob\n",
    "\n",
    "\n",
    "def test_job():\n",
    "    job = BadgeMinMaxCountPerUserJob(args=['./resources/0.xml'])\n",
    "\n",
    "    results = []    \n",
    "    with job.make_runner() as runner:\n",
    "        runner.run()\n",
    "        for key, value in job.parse_output(runner.cat_output()):\n",
    "            results.append((key, value))\n",
    "\n",
    "    assert len(results) == 80987\n",
    "    \n",
    "    # -- top 3 and bottom 3 should be ok\n",
    "    results = sorted(results, key=lambda x: x[0])\n",
    "    \n",
    "    assert results[:3] + results[-3:] == [\n",
    "        ('1', ['2017-12-04T04:46:55.950', '2017-12-04T04:46:55.950', 1]), \n",
    "        ('1000090', ['2017-11-30T10:18:46.063', '2017-11-30T10:18:46.063', 1]), \n",
    "        ('1000115', ['2017-12-03T03:19:13.543', '2017-12-03T03:19:13.543', 1]), \n",
    "        ('99989', ['2017-12-01T13:27:50.407', '2017-11-29T11:36:38.533', 4]), \n",
    "        ('999896', ['2017-11-29T09:02:10.143', '2017-11-29T09:02:10.143', 1]), \n",
    "        ('999942', ['2017-12-01T14:45:44.430', '2017-11-30T15:39:54.080', 2]),\n",
    "    ]"
   ]
  },
  {
   "cell_type": "code",
   "execution_count": 14,
   "metadata": {},
   "outputs": [
    {
     "name": "stdout",
     "output_type": "stream",
     "text": [
      "\u001b[1m============================= test session starts ==============================\u001b[0m\n",
      "platform linux -- Python 3.6.5, pytest-3.8.2, py-1.6.0, pluggy-0.7.1\n",
      "rootdir: /home/maciej/projects/learning-big-data, inifile: pytest.ini\n",
      "plugins: pythonpath-0.7.1, mock-0.10.1, cov-2.5.1\n",
      "collected 1 item                                                               \u001b[0m\u001b[1m\n",
      "\n",
      "tests.py .\n",
      "\n",
      "\u001b[32m\u001b[1m========================== 1 passed in 15.65 seconds ===========================\u001b[0m\n"
     ]
    }
   ],
   "source": [
    "!py.test -s tests.py"
   ]
  },
  {
   "cell_type": "markdown",
   "metadata": {},
   "source": [
    "## Your solution"
   ]
  },
  {
   "cell_type": "code",
   "execution_count": 15,
   "metadata": {},
   "outputs": [
    {
     "name": "stdout",
     "output_type": "stream",
     "text": [
      "Overwriting exercise.py\n"
     ]
    }
   ],
   "source": [
    "%%file exercise.py\n",
    "\n",
    "from mrjob.job import MRJob\n",
    "import xmltodict\n",
    "from delorean import parse\n",
    "\n",
    "\n",
    "class BadgeMinMaxCountPerUserJob(MRJob):\n",
    "    \n",
    "    def mapper(self, _, line):\n",
    "        yield 'a', 'a'\n",
    "\n",
    "    def combiner(self, user_id, values):\n",
    "        yield 'a', 'a'\n",
    "        \n",
    "    def reducer(self, user_id, values):\n",
    "        yield 'a', 'a'"
   ]
  },
  {
   "cell_type": "markdown",
   "metadata": {},
   "source": [
    "## Answer"
   ]
  },
  {
   "cell_type": "code",
   "execution_count": null,
   "metadata": {},
   "outputs": [],
   "source": [
    "# !cat answer.py"
   ]
  },
  {
   "cell_type": "code",
   "execution_count": null,
   "metadata": {},
   "outputs": [],
   "source": []
  }
 ],
 "metadata": {
  "kernelspec": {
   "display_name": "Python 3",
   "language": "python",
   "name": "python3"
  },
  "language_info": {
   "codemirror_mode": {
    "name": "ipython",
    "version": 3
   },
   "file_extension": ".py",
   "mimetype": "text/x-python",
   "name": "python",
   "nbconvert_exporter": "python",
   "pygments_lexer": "ipython3",
   "version": "3.6.5"
  }
 },
 "nbformat": 4,
 "nbformat_minor": 2
}
