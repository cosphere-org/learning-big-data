{
 "cells": [
  {
   "cell_type": "markdown",
   "metadata": {},
   "source": [
    "## TASK\n",
    "\n",
    "Create MapReduce Job which will calculate minimum and maximum date of certain badge record and their overall count per user. If possible try to leverage the combiner optimization technique. \n",
    "\n",
    "NOTE: Before you try working on Map Reduce Job try to achieve the same using pure python and working only on a single `0.xml` (available in the current directory)."
   ]
  },
  {
   "cell_type": "code",
   "execution_count": 9,
   "metadata": {},
   "outputs": [],
   "source": [
    "from glob import glob\n",
    "from datetime import datetime\n",
    "from uuid import uuid4\n",
    "from delorean import parse\n",
    "\n",
    "import requests\n",
    "import xmltodict\n",
    "\n",
    "from job import Job\n",
    "\n",
    "\n",
    "get_stackoverflow_badges_uri = (\n",
    "    'https://s3.eu-central-1.amazonaws.com/learning.big.data/stackoverflow-badges/{}'.format)"
   ]
  },
  {
   "cell_type": "markdown",
   "metadata": {},
   "source": [
    "## SELF EXPLORATION\n",
    "\n",
    "Add you pure python exploration below this"
   ]
  },
  {
   "cell_type": "markdown",
   "metadata": {},
   "source": [
    "## Records Reader"
   ]
  },
  {
   "cell_type": "code",
   "execution_count": 10,
   "metadata": {},
   "outputs": [],
   "source": [
    "def record_reader(line):\n",
    "    record = dict(xmltodict.parse(line.decode('utf-8'))['row'])        \n",
    "    yield (\n",
    "        record['@Id'],\n",
    "        {k.replace('@', '').lower(): v for k, v in record.items()},\n",
    "    )            "
   ]
  },
  {
   "cell_type": "code",
   "execution_count": 11,
   "metadata": {},
   "outputs": [
    {
     "name": "stdout",
     "output_type": "stream",
     "text": [
      "[('26066242', {'id': '26066242', 'userid': '8125167', 'name': 'Supporter', 'date': '2017-11-28T19:34:25.047', 'class': '3', 'tagbased': 'False'}), ('26066243', {'id': '26066243', 'userid': '9006638', 'name': 'Supporter', 'date': '2017-11-28T19:34:25.047', 'class': '3', 'tagbased': 'False'})]\n"
     ]
    }
   ],
   "source": [
    "# -- test `record_reader`\n",
    "response = requests.get(get_stackoverflow_badges_uri('0.xml'), stream=True)\n",
    "\n",
    "records = []\n",
    "for line in response.iter_lines():\n",
    "    if line:\n",
    "        records.append(next(record_reader(line)))\n",
    "        \n",
    "print(records[:2])"
   ]
  },
  {
   "cell_type": "markdown",
   "metadata": {},
   "source": [
    "## Mapper"
   ]
  },
  {
   "cell_type": "code",
   "execution_count": 1,
   "metadata": {},
   "outputs": [],
   "source": [
    "def mapper(key, value):\n",
    "    #\n",
    "    # ADD YOUR CODE HERE AND REMOVE BELOW yield\n",
    "    #\n",
    "    yield (key, value)"
   ]
  },
  {
   "cell_type": "code",
   "execution_count": 13,
   "metadata": {},
   "outputs": [
    {
     "data": {
      "text/plain": [
       "[('8125167', ('2017-11-28T19:34:25.047', '2017-11-28T19:34:25.047', 1)),\n",
       " ('9006638', ('2017-11-28T19:34:25.047', '2017-11-28T19:34:25.047', 1)),\n",
       " ('4892968', ('2017-11-28T19:34:25.047', '2017-11-28T19:34:25.047', 1)),\n",
       " ('3204673', ('2017-11-28T19:34:25.047', '2017-11-28T19:34:25.047', 1)),\n",
       " ('1108484', ('2017-11-28T19:34:25.047', '2017-11-28T19:34:25.047', 1)),\n",
       " ('3203282', ('2017-11-28T19:34:25.047', '2017-11-28T19:34:25.047', 1)),\n",
       " ('3926187', ('2017-11-28T19:34:25.047', '2017-11-28T19:34:25.047', 1)),\n",
       " ('4134228', ('2017-11-28T19:34:25.047', '2017-11-28T19:34:25.047', 1)),\n",
       " ('8474041', ('2017-11-28T19:34:25.047', '2017-11-28T19:34:25.047', 1)),\n",
       " ('9019981', ('2017-11-28T19:35:14.740', '2017-11-28T19:35:14.740', 1))]"
      ]
     },
     "execution_count": 13,
     "metadata": {},
     "output_type": "execute_result"
    }
   ],
   "source": [
    "# -- test mapper\n",
    "[next(mapper(key, value)) for key, value in records[:10]]"
   ]
  },
  {
   "cell_type": "markdown",
   "metadata": {},
   "source": [
    "## Reducer"
   ]
  },
  {
   "cell_type": "code",
   "execution_count": 2,
   "metadata": {},
   "outputs": [],
   "source": [
    "def reducer(key, values):    \n",
    "    #\n",
    "    # ADD YOUR CODE HERE AND REMOVE BELOW yield\n",
    "    #\n",
    "    yield (key, values)"
   ]
  },
  {
   "cell_type": "code",
   "execution_count": 15,
   "metadata": {},
   "outputs": [
    {
     "data": {
      "text/plain": [
       "('9019981', ('2017-11-27T19:34:25.047', '2017-11-30T19:34:25.047', 0))"
      ]
     },
     "execution_count": 15,
     "metadata": {},
     "output_type": "execute_result"
    }
   ],
   "source": [
    "# -- test reducer\n",
    "next(reducer(\n",
    "    '9019981', \n",
    "    [\n",
    "        ('2017-11-28T19:34:25.047', '2017-11-28T19:34:25.047', 1),\n",
    "        ('2017-11-27T19:34:25.047', '2017-11-27T19:34:25.047', 1),\n",
    "        ('2017-11-30T19:34:25.047', '2017-11-30T19:34:25.047', 1),        \n",
    "    ]))"
   ]
  },
  {
   "cell_type": "markdown",
   "metadata": {},
   "source": [
    "## Job"
   ]
  },
  {
   "cell_type": "code",
   "execution_count": 20,
   "metadata": {},
   "outputs": [
    {
     "name": "stdout",
     "output_type": "stream",
     "text": [
      "\n",
      "\n",
      "==========================================\n",
      "\n",
      "JOB ID: f53502c8-ba5b-4553-867e-6db612fa9f00\n",
      "\n",
      "INPUT SIZE: 46239976\n",
      "\n",
      "OUTPUT PATH: /home/jovyan/work/map_reduce/.outputs/f53502c8-ba5b-4553-867e-6db612fa9f00\n",
      "\n",
      "EXECUTION TIME: 41.315\n",
      "\n",
      "MAX SHUFFLE SIZE: 29295514\n",
      "\n",
      "FILES:\n",
      "+----------------------------+--------------+\n",
      "|          filename          | size (bytes) |\n",
      "+============================+==============+\n",
      "| mapper_0__partition_0.json | 1816378      |\n",
      "+----------------------------+--------------+\n",
      "| mapper_0__partition_1.json | 1803425      |\n",
      "+----------------------------+--------------+\n",
      "| mapper_0__partition_2.json | 1822664      |\n",
      "+----------------------------+--------------+\n",
      "| mapper_0__partition_3.json | 1830571      |\n",
      "+----------------------------+--------------+\n",
      "| mapper_1__partition_0.json | 1808942      |\n",
      "+----------------------------+--------------+\n",
      "| mapper_1__partition_1.json | 1806629      |\n",
      "+----------------------------+--------------+\n",
      "| mapper_1__partition_2.json | 1777528      |\n",
      "+----------------------------+--------------+\n",
      "| mapper_1__partition_3.json | 1803750      |\n",
      "+----------------------------+--------------+\n",
      "| mapper_2__partition_0.json | 1935413      |\n",
      "+----------------------------+--------------+\n",
      "| mapper_2__partition_1.json | 1953608      |\n",
      "+----------------------------+--------------+\n",
      "| mapper_2__partition_2.json | 1927844      |\n",
      "+----------------------------+--------------+\n",
      "| mapper_2__partition_3.json | 1944466      |\n",
      "+----------------------------+--------------+\n",
      "| mapper_3__partition_0.json | 1762446      |\n",
      "+----------------------------+--------------+\n",
      "| mapper_3__partition_1.json | 1769217      |\n",
      "+----------------------------+--------------+\n",
      "| mapper_3__partition_2.json | 1773342      |\n",
      "+----------------------------+--------------+\n",
      "| mapper_3__partition_3.json | 1759291      |\n",
      "+----------------------------+--------------+\n",
      "| reducer_0.json             | 6278835      |\n",
      "+----------------------------+--------------+\n",
      "| reducer_1.json             | 6301425      |\n",
      "+----------------------------+--------------+\n",
      "| reducer_2.json             | 6278215      |\n",
      "+----------------------------+--------------+\n",
      "| reducer_3.json             | 6292874      |\n",
      "+----------------------------+--------------+\n",
      "        \n"
     ]
    }
   ],
   "source": [
    "Job(\n",
    "    input_uris=[\n",
    "        get_stackoverflow_badges_uri('0.xml'),\n",
    "        get_stackoverflow_badges_uri('1.xml'),\n",
    "        get_stackoverflow_badges_uri('2.xml'),   \n",
    "        get_stackoverflow_badges_uri('3.xml'),           \n",
    "    ], \n",
    "    record_reader=record_reader,\n",
    "    mapper=mapper,  \n",
    "    combiner=reducer,\n",
    "    reducer=reducer,\n",
    ").run()"
   ]
  },
  {
   "cell_type": "code",
   "execution_count": 19,
   "metadata": {},
   "outputs": [
    {
     "name": "stdout",
     "output_type": "stream",
     "text": [
      "{\"key\": \"9006638\", \"value\": [\"2017-11-28T19:34:25.047\", \"2017-11-30T04:44:18.877\", 0]}\r\n",
      "{\"key\": \"3204673\", \"value\": [\"2017-11-28T19:34:25.047\", \"2017-11-28T19:34:25.047\", 0]}\r\n",
      "{\"key\": \"8156390\", \"value\": [\"2017-11-28T19:34:25.047\", \"2017-11-28T19:34:25.047\", 0]}\r\n",
      "{\"key\": \"2188539\", \"value\": [\"2017-11-28T19:34:25.047\", \"2017-11-28T19:34:25.047\", 0]}\r\n",
      "{\"key\": \"8913542\", \"value\": [\"2017-12-06T13:52:20.907\", \"2017-11-29T13:46:55.063\", 0]}\r\n",
      "{\"key\": \"3957942\", \"value\": [\"2017-11-28T19:34:25.047\", \"2017-11-28T19:43:23.213\", 0]}\r\n",
      "{\"key\": \"1069995\", \"value\": [\"2017-11-28T19:34:25.047\", \"2017-11-28T19:34:25.047\", 0]}\r\n",
      "{\"key\": \"4569922\", \"value\": [\"2017-11-28T19:34:25.047\", \"2017-11-28T19:34:25.047\", 0]}\r\n",
      "{\"key\": \"7221943\", \"value\": [\"2017-11-28T19:34:25.047\", \"2017-11-28T19:34:25.047\", 0]}\r\n",
      "{\"key\": \"3992826\", \"value\": [\"2017-11-28T19:38:04.527\", \"2017-11-28T19:38:04.527\", 0]}\r\n"
     ]
    }
   ],
   "source": [
    "!head -n 10 ./.outputs/4db61585-39b9-46ef-bf38-22f0bdbc458a/reducer_1.json"
   ]
  }
 ],
 "metadata": {
  "kernelspec": {
   "display_name": "Python 3",
   "language": "python",
   "name": "python3"
  },
  "language_info": {
   "codemirror_mode": {
    "name": "ipython",
    "version": 3
   },
   "file_extension": ".py",
   "mimetype": "text/x-python",
   "name": "python",
   "nbconvert_exporter": "python",
   "pygments_lexer": "ipython3",
   "version": "3.6.5"
  }
 },
 "nbformat": 4,
 "nbformat_minor": 2
}
