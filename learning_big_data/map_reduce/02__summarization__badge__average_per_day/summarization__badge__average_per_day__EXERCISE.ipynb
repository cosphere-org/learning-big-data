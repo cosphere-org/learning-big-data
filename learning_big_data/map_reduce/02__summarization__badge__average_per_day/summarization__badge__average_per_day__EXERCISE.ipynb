{
 "cells": [
  {
   "cell_type": "markdown",
   "metadata": {},
   "source": [
    "## TASK\n",
    "\n",
    "Create MapReduce Job which will calculate average length of the stackoverflow badge name per day. If possible try to leverage the combiner optimization technique. \n",
    "\n",
    "NOTE: Before you try working on Map Reduce Job try to achieve the same using pure python and working only on a single `0.xml` (available in the current directory)."
   ]
  },
  {
   "cell_type": "code",
   "execution_count": null,
   "metadata": {},
   "outputs": [],
   "source": [
    "# FIX !!!\n",
    "# extend the sys path of the parent dir for import the job module\n",
    "import sys\n",
    "if '../' not in sys.path:\n",
    "    sys.path.append(\"../\") "
   ]
  },
  {
   "cell_type": "code",
   "execution_count": 1,
   "metadata": {},
   "outputs": [],
   "source": [
    "from glob import glob\n",
    "from datetime import datetime\n",
    "from uuid import uuid4\n",
    "from delorean import parse\n",
    "\n",
    "import requests\n",
    "import xmltodict\n",
    "\n",
    "from job import Job\n",
    "\n",
    "\n",
    "get_stackoverflow_badges_uri = (\n",
    "    'https://s3.eu-central-1.amazonaws.com/learning.big.data/stackoverflow-badges/{}'.format)"
   ]
  },
  {
   "cell_type": "markdown",
   "metadata": {},
   "source": [
    "## SELF EXPLORATION\n",
    "\n",
    "Add you pure python exploration below this"
   ]
  },
  {
   "cell_type": "markdown",
   "metadata": {},
   "source": [
    "## Records Reader"
   ]
  },
  {
   "cell_type": "code",
   "execution_count": 2,
   "metadata": {},
   "outputs": [],
   "source": [
    "def record_reader(line):\n",
    "    record = dict(xmltodict.parse(line.decode('utf-8'))['row'])        \n",
    "    yield (\n",
    "        record['@Id'],\n",
    "        {k.replace('@', '').lower(): v for k, v in record.items()},\n",
    "    )            "
   ]
  },
  {
   "cell_type": "code",
   "execution_count": 3,
   "metadata": {},
   "outputs": [
    {
     "name": "stdout",
     "output_type": "stream",
     "text": [
      "[('26066242', {'id': '26066242', 'userid': '8125167', 'name': 'Supporter', 'date': '2017-11-28T19:34:25.047', 'class': '3', 'tagbased': 'False'}), ('26066243', {'id': '26066243', 'userid': '9006638', 'name': 'Supporter', 'date': '2017-11-28T19:34:25.047', 'class': '3', 'tagbased': 'False'})]\n"
     ]
    }
   ],
   "source": [
    "# -- test `record_reader`\n",
    "response = requests.get(get_stackoverflow_badges_uri('0.xml'), stream=True)\n",
    "\n",
    "records = []\n",
    "for line in response.iter_lines():\n",
    "    if line:\n",
    "        records.append(next(record_reader(line)))\n",
    "        \n",
    "print(records[:2])"
   ]
  },
  {
   "cell_type": "markdown",
   "metadata": {},
   "source": [
    "## Mapper"
   ]
  },
  {
   "cell_type": "code",
   "execution_count": 10,
   "metadata": {},
   "outputs": [],
   "source": [
    "def mapper(key, value):\n",
    "    #\n",
    "    # ADD YOUR CODE HERE AND REMOVE BELOW yield\n",
    "    #\n",
    "    yield (key, value)"
   ]
  },
  {
   "cell_type": "code",
   "execution_count": 11,
   "metadata": {},
   "outputs": [
    {
     "data": {
      "text/plain": [
       "[('2017-11-28', {'avg': 9, 'count': 1}),\n",
       " ('2017-11-28', {'avg': 9, 'count': 1}),\n",
       " ('2017-11-28', {'avg': 9, 'count': 1}),\n",
       " ('2017-11-28', {'avg': 9, 'count': 1}),\n",
       " ('2017-11-28', {'avg': 10, 'count': 1}),\n",
       " ('2017-11-28', {'avg': 7, 'count': 1}),\n",
       " ('2017-11-28', {'avg': 7, 'count': 1}),\n",
       " ('2017-11-28', {'avg': 7, 'count': 1}),\n",
       " ('2017-11-28', {'avg': 7, 'count': 1}),\n",
       " ('2017-11-28', {'avg': 8, 'count': 1})]"
      ]
     },
     "execution_count": 11,
     "metadata": {},
     "output_type": "execute_result"
    }
   ],
   "source": [
    "# -- test mapper\n",
    "[next(mapper(key, value)) for key, value in records[:10]]"
   ]
  },
  {
   "cell_type": "markdown",
   "metadata": {},
   "source": [
    "## Reducer"
   ]
  },
  {
   "cell_type": "code",
   "execution_count": 16,
   "metadata": {},
   "outputs": [],
   "source": [
    "def reducer(key, values):    \n",
    "    #\n",
    "    # ADD YOUR CODE HERE AND REMOVE BELOW yield\n",
    "    #\n",
    "    yield (key, values)"
   ]
  },
  {
   "cell_type": "code",
   "execution_count": 17,
   "metadata": {},
   "outputs": [
    {
     "data": {
      "text/plain": [
       "('2017-11-28', {'avg': 13.25, 'count': 4})"
      ]
     },
     "execution_count": 17,
     "metadata": {},
     "output_type": "execute_result"
    }
   ],
   "source": [
    "# -- test reducer\n",
    "next(reducer(\n",
    "    '2017-11-28', \n",
    "    [\n",
    "        {'avg': 11, 'count': 1},\n",
    "        {'avg': 12, 'count': 1},\n",
    "        {'avg': 15, 'count': 2},        \n",
    "    ]))"
   ]
  },
  {
   "cell_type": "markdown",
   "metadata": {},
   "source": [
    "## Job"
   ]
  },
  {
   "cell_type": "code",
   "execution_count": 21,
   "metadata": {},
   "outputs": [
    {
     "name": "stdout",
     "output_type": "stream",
     "text": [
      "\n",
      "\n",
      "==========================================\n",
      "\n",
      "JOB ID: 723a95b8-d601-4fb8-8c57-c561bedcd3fe\n",
      "\n",
      "INPUT SIZE: 46239976\n",
      "\n",
      "OUTPUT PATH: /home/jovyan/work/map_reduce/.outputs/723a95b8-d601-4fb8-8c57-c561bedcd3fe\n",
      "\n",
      "EXECUTION TIME: 39.0\n",
      "\n",
      "MAX SHUFFLE SIZE: 3664\n",
      "\n",
      "FILES:\n",
      "+----------------------------+--------------+\n",
      "|          filename          | size (bytes) |\n",
      "+============================+==============+\n",
      "| mapper_0__partition_0.json | 157          |\n",
      "+----------------------------+--------------+\n",
      "| mapper_0__partition_1.json | 340          |\n",
      "+----------------------------+--------------+\n",
      "| mapper_0__partition_2.json | 375          |\n",
      "+----------------------------+--------------+\n",
      "| mapper_0__partition_3.json | 78           |\n",
      "+----------------------------+--------------+\n",
      "| mapper_1__partition_0.json | 281          |\n",
      "+----------------------------+--------------+\n",
      "| mapper_1__partition_1.json | 156          |\n",
      "+----------------------------+--------------+\n",
      "| mapper_1__partition_2.json | 341          |\n",
      "+----------------------------+--------------+\n",
      "| mapper_1__partition_3.json | 600          |\n",
      "+----------------------------+--------------+\n",
      "| mapper_2__partition_0.json | 216          |\n",
      "+----------------------------+--------------+\n",
      "| mapper_2__partition_1.json | 78           |\n",
      "+----------------------------+--------------+\n",
      "| mapper_2__partition_2.json | 78           |\n",
      "+----------------------------+--------------+\n",
      "| mapper_2__partition_3.json | 77           |\n",
      "+----------------------------+--------------+\n",
      "| mapper_3__partition_0.json | 232          |\n",
      "+----------------------------+--------------+\n",
      "| mapper_3__partition_1.json | 262          |\n",
      "+----------------------------+--------------+\n",
      "| mapper_3__partition_2.json | 314          |\n",
      "+----------------------------+--------------+\n",
      "| mapper_3__partition_3.json | 79           |\n",
      "+----------------------------+--------------+\n",
      "| reducer_0.json             | 850          |\n",
      "+----------------------------+--------------+\n",
      "| reducer_1.json             | 800          |\n",
      "+----------------------------+--------------+\n",
      "| reducer_2.json             | 947          |\n",
      "+----------------------------+--------------+\n",
      "| reducer_3.json             | 740          |\n",
      "+----------------------------+--------------+\n",
      "        \n"
     ]
    }
   ],
   "source": [
    "Job(\n",
    "    input_uris=[\n",
    "        get_stackoverflow_badges_uri('0.xml'),\n",
    "        get_stackoverflow_badges_uri('1.xml'),\n",
    "        get_stackoverflow_badges_uri('2.xml'),   \n",
    "        get_stackoverflow_badges_uri('3.xml'),           \n",
    "    ], \n",
    "    record_reader=record_reader,\n",
    "    mapper=mapper,  \n",
    "    combiner=reducer,\n",
    "    reducer=reducer,\n",
    ").run()"
   ]
  },
  {
   "cell_type": "code",
   "execution_count": 25,
   "metadata": {},
   "outputs": [
    {
     "name": "stdout",
     "output_type": "stream",
     "text": [
      "{\"key\": \"2015-11-20\", \"value\": {\"avg\": 9.456561922365989, \"count\": 1082}}\r\n",
      "{\"key\": \"2017-02-12\", \"value\": {\"avg\": 10.139097744360901, \"count\": 7448}}\r\n",
      "{\"key\": \"2016-09-23\", \"value\": {\"avg\": 11.0, \"count\": 1}}\r\n",
      "{\"key\": \"2016-09-28\", \"value\": {\"avg\": 10.316856950973808, \"count\": 14890}}\r\n",
      "{\"key\": \"2012-08-31\", \"value\": {\"avg\": 14.0, \"count\": 1}}\r\n",
      "{\"key\": \"2016-02-10\", \"value\": {\"avg\": 9.873970473970473, \"count\": 6435}}\r\n",
      "{\"key\": \"2016-07-25\", \"value\": {\"avg\": 11.0, \"count\": 3}}\r\n",
      "{\"key\": \"2016-07-27\", \"value\": {\"avg\": 10.340616288706396, \"count\": 13273}}\r\n",
      "{\"key\": \"2016-07-26\", \"value\": {\"avg\": 11.0, \"count\": 1}}\r\n",
      "{\"key\": \"2014-05-23\", \"value\": {\"avg\": 11.0, \"count\": 1}}\r\n",
      "{\"key\": \"2016-05-10\", \"value\": {\"avg\": 10.283031829631327, \"count\": 4367}}\r\n"
     ]
    }
   ],
   "source": [
    "!head -n 100 ./.outputs/723a95b8-d601-4fb8-8c57-c561bedcd3fe/reducer_3.json"
   ]
  },
  {
   "cell_type": "code",
   "execution_count": null,
   "metadata": {},
   "outputs": [],
   "source": []
  }
 ],
 "metadata": {
  "kernelspec": {
   "display_name": "Python 3",
   "language": "python",
   "name": "python3"
  },
  "language_info": {
   "codemirror_mode": {
    "name": "ipython",
    "version": 3
   },
   "file_extension": ".py",
   "mimetype": "text/x-python",
   "name": "python",
   "nbconvert_exporter": "python",
   "pygments_lexer": "ipython3",
   "version": "3.6.5"
  }
 },
 "nbformat": 4,
 "nbformat_minor": 2
}
