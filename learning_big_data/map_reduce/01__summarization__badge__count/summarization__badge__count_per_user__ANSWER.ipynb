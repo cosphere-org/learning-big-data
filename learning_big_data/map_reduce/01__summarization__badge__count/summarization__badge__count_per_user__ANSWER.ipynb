{
 "cells": [
  {
   "cell_type": "markdown",
   "metadata": {},
   "source": [
    "## TASK\n",
    "\n",
    "Create MapReduce Job which will calculate count of each stackoverflow badge per user. If possible try to leverage the combiner optimization technique. \n",
    "\n",
    "NOTE: Before you try working on Map Reduce Job try to achieve the same using pure python and working only on a single `0.xml` (available in the current directory)."
   ]
  },
  {
   "cell_type": "code",
   "execution_count": 1,
   "metadata": {},
   "outputs": [],
   "source": [
    "from glob import glob\n",
    "from uuid import uuid4\n",
    "\n",
    "import requests\n",
    "import xmltodict\n",
    "\n",
    "from job import Job\n",
    "\n",
    "\n",
    "get_stackoverflow_badges_uri = (\n",
    "    'https://s3.eu-central-1.amazonaws.com/learning.big.data/stackoverflow-badges/{}'.format)"
   ]
  },
  {
   "cell_type": "markdown",
   "metadata": {},
   "source": [
    "## Records Reader"
   ]
  },
  {
   "cell_type": "code",
   "execution_count": 2,
   "metadata": {},
   "outputs": [],
   "source": [
    "def record_reader(line):\n",
    "    record = dict(xmltodict.parse(line.decode('utf-8'))['row'])        \n",
    "    yield (\n",
    "        record['@Id'],\n",
    "        {k.replace('@', '').lower(): v for k, v in record.items()},\n",
    "    )            "
   ]
  },
  {
   "cell_type": "code",
   "execution_count": 3,
   "metadata": {},
   "outputs": [
    {
     "name": "stdout",
     "output_type": "stream",
     "text": [
      "[('26066242', {'id': '26066242', 'userid': '8125167', 'name': 'Supporter', 'date': '2017-11-28T19:34:25.047', 'class': '3', 'tagbased': 'False'}), ('26066243', {'id': '26066243', 'userid': '9006638', 'name': 'Supporter', 'date': '2017-11-28T19:34:25.047', 'class': '3', 'tagbased': 'False'})]\n"
     ]
    }
   ],
   "source": [
    "# -- test `record_reader`\n",
    "response = requests.get(get_stackoverflow_badges_uri('0.xml'), stream=True)\n",
    "\n",
    "records = []\n",
    "for line in response.iter_lines():\n",
    "    if line:\n",
    "        records.append(next(record_reader(line)))\n",
    "        \n",
    "print(records[:2])"
   ]
  },
  {
   "cell_type": "markdown",
   "metadata": {},
   "source": [
    "## Mapper"
   ]
  },
  {
   "cell_type": "code",
   "execution_count": 4,
   "metadata": {},
   "outputs": [],
   "source": [
    "def mapper(key, value):\n",
    "    yield (value['userid'], value['name'])"
   ]
  },
  {
   "cell_type": "code",
   "execution_count": 5,
   "metadata": {},
   "outputs": [
    {
     "data": {
      "text/plain": [
       "[('8125167', 'Supporter'),\n",
       " ('9006638', 'Supporter'),\n",
       " ('4892968', 'Supporter'),\n",
       " ('3204673', 'Supporter'),\n",
       " ('1108484', 'Taxonomist'),\n",
       " ('3203282', 'Teacher'),\n",
       " ('3926187', 'Teacher'),\n",
       " ('4134228', 'Teacher'),\n",
       " ('8474041', 'Teacher'),\n",
       " ('9019981', 'Informed')]"
      ]
     },
     "execution_count": 5,
     "metadata": {},
     "output_type": "execute_result"
    }
   ],
   "source": [
    "# -- test mapper\n",
    "[next(mapper(key, value)) for key, value in records[:10]]"
   ]
  },
  {
   "cell_type": "markdown",
   "metadata": {},
   "source": [
    "## Reducer"
   ]
  },
  {
   "cell_type": "code",
   "execution_count": 6,
   "metadata": {},
   "outputs": [],
   "source": [
    "def reducer(key, values):\n",
    "    counts = {}\n",
    "    for value in values:\n",
    "        counts.setdefault(value, 0)\n",
    "        counts[value] += 1\n",
    "        \n",
    "    yield (key, counts)"
   ]
  },
  {
   "cell_type": "code",
   "execution_count": 7,
   "metadata": {},
   "outputs": [
    {
     "data": {
      "text/plain": [
       "('9019981', {'Teacher': 2, 'Informed': 1})"
      ]
     },
     "execution_count": 7,
     "metadata": {},
     "output_type": "execute_result"
    }
   ],
   "source": [
    "# -- test reducer\n",
    "next(reducer('9019981', ['Teacher', 'Informed', 'Teacher']))"
   ]
  },
  {
   "cell_type": "code",
   "execution_count": 8,
   "metadata": {},
   "outputs": [
    {
     "name": "stdout",
     "output_type": "stream",
     "text": [
      "\n",
      "\n",
      "==========================================\n",
      "\n",
      "JOB ID: a9aeb394-84b5-443c-8a05-25f12950db37\n",
      "\n",
      "INPUT SIZE: 34635070\n",
      "\n",
      "OUTPUT PATH: /home/jovyan/work/map_reduce/.outputs/a9aeb394-84b5-443c-8a05-25f12950db37\n",
      "\n",
      "EXECUTION TIME: 16.247\n",
      "\n",
      "MAX SHUFFLE SIZE: 11726800\n",
      "\n",
      "FILES:\n",
      "+----------------------------+--------------+\n",
      "|          filename          | size (bytes) |\n",
      "+============================+==============+\n",
      "| mapper_0__partition_0.json | 988954       |\n",
      "+----------------------------+--------------+\n",
      "| mapper_0__partition_1.json | 978468       |\n",
      "+----------------------------+--------------+\n",
      "| mapper_0__partition_2.json | 989323       |\n",
      "+----------------------------+--------------+\n",
      "| mapper_0__partition_3.json | 993619       |\n",
      "+----------------------------+--------------+\n",
      "| mapper_1__partition_0.json | 980454       |\n",
      "+----------------------------+--------------+\n",
      "| mapper_1__partition_1.json | 978535       |\n",
      "+----------------------------+--------------+\n",
      "| mapper_1__partition_2.json | 962044       |\n",
      "+----------------------------+--------------+\n",
      "| mapper_1__partition_3.json | 975995       |\n",
      "+----------------------------+--------------+\n",
      "| mapper_2__partition_0.json | 966570       |\n",
      "+----------------------------+--------------+\n",
      "| mapper_2__partition_1.json | 975867       |\n",
      "+----------------------------+--------------+\n",
      "| mapper_2__partition_2.json | 964020       |\n",
      "+----------------------------+--------------+\n",
      "| mapper_2__partition_3.json | 972951       |\n",
      "+----------------------------+--------------+\n",
      "| reducer_0.json             | 2914693      |\n",
      "+----------------------------+--------------+\n",
      "| reducer_1.json             | 2912834      |\n",
      "+----------------------------+--------------+\n",
      "| reducer_2.json             | 2900857      |\n",
      "+----------------------------+--------------+\n",
      "| reducer_3.json             | 2923606      |\n",
      "+----------------------------+--------------+\n",
      "        \n"
     ]
    }
   ],
   "source": [
    "Job(\n",
    "    input_uris=[\n",
    "        get_stackoverflow_badges_uri('0.xml'),\n",
    "        get_stackoverflow_badges_uri('1.xml'),\n",
    "        get_stackoverflow_badges_uri('2.xml'),        \n",
    "    ], \n",
    "    record_reader=record_reader,\n",
    "    mapper=mapper,  \n",
    "    reducer=reducer,\n",
    ").run()"
   ]
  },
  {
   "cell_type": "code",
   "execution_count": 9,
   "metadata": {},
   "outputs": [
    {
     "name": "stdout",
     "output_type": "stream",
     "text": [
      "{\"key\": \"939944\", \"value\": {\"Popular Question\": 1}}\r\n",
      "{\"key\": \"1175296\", \"value\": {\"Popular Question\": 1, \"Caucus\": 1}}\r\n",
      "{\"key\": \"1130069\", \"value\": {\"Popular Question\": 3}}\r\n",
      "{\"key\": \"2798506\", \"value\": {\"Popular Question\": 1}}\r\n",
      "{\"key\": \"4319644\", \"value\": {\"Student\": 1}}\r\n",
      "{\"key\": \"5545371\", \"value\": {\"Student\": 1}}\r\n",
      "{\"key\": \"5545153\", \"value\": {\"Supporter\": 1}}\r\n",
      "{\"key\": \"323767\", \"value\": {\"Yearling\": 2}}\r\n",
      "{\"key\": \"1313030\", \"value\": {\"Yearling\": 1}}\r\n",
      "{\"key\": \"888068\", \"value\": {\"Yearling\": 1}}\r\n"
     ]
    }
   ],
   "source": [
    "!head -n 10 ./.outputs/a9aeb394-84b5-443c-8a05-25f12950db37/reducer_1.json"
   ]
  },
  {
   "cell_type": "markdown",
   "metadata": {},
   "source": [
    "## SELF EXPLORATION\n",
    "- read & merge content returned by all reducers\n",
    "- which user has the most number of badges?\n",
    "- does the algorithm work correctly?\n",
    "- check if there were any benefits coming from the usage of combiners (even in the local setup) -> how combiner could look like?\n",
    "- how well does it scale? how many mappers we would need to process 1 TB of data in say 1 day?\n",
    "- how many records would we have in that 1TB\n",
    "- what is the `MB/s` and `records/s` speed of our above home made framework? "
   ]
  },
  {
   "cell_type": "code",
   "execution_count": null,
   "metadata": {},
   "outputs": [],
   "source": []
  }
 ],
 "metadata": {
  "kernelspec": {
   "display_name": "Python 3",
   "language": "python",
   "name": "python3"
  },
  "language_info": {
   "codemirror_mode": {
    "name": "ipython",
    "version": 3
   },
   "file_extension": ".py",
   "mimetype": "text/x-python",
   "name": "python",
   "nbconvert_exporter": "python",
   "pygments_lexer": "ipython3",
   "version": "3.6.5"
  }
 },
 "nbformat": 4,
 "nbformat_minor": 2
}
