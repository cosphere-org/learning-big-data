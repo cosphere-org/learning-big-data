{
 "cells": [
  {
   "cell_type": "markdown",
   "metadata": {},
   "source": [
    "## Challenge\n",
    "\n",
    "Create `BadgeCountJob` (using `mrjob`) which will calculate count of specific stackoverflow badge as present in the analysed files. If possible try to leverage the combiner optimization technique. \n",
    "\n",
    "NOTE: Before you try working on Map Reduce Job try to achieve the same using pure python and working only on a single `0.xml` (available in the current directory).\n",
    "\n",
    "As an extra create `BadgeCountPerUserJob` to count badges per user."
   ]
  },
  {
   "cell_type": "code",
   "execution_count": 7,
   "metadata": {},
   "outputs": [],
   "source": [
    "%%bash\n",
    "\n",
    "# -- run it in order to fetch the data\n",
    "wget -P resources https://s3.eu-central-1.amazonaws.com/learning.big.data/stackoverflow-badges/0.xml"
   ]
  },
  {
   "cell_type": "code",
   "execution_count": 107,
   "metadata": {},
   "outputs": [
    {
     "name": "stdout",
     "output_type": "stream",
     "text": [
      "Overwriting tests.py\n"
     ]
    }
   ],
   "source": [
    "%%file tests.py\n",
    "\n",
    "import json\n",
    "\n",
    "# from exercise import BadgeCountJob\n",
    "from answer import BadgeCountJob\n",
    "\n",
    "# from exercise import BadgeCountPerUserJob\n",
    "from answer import BadgeCountPerUserJob\n",
    "\n",
    "\n",
    "def test_badge_count_job():\n",
    "    job = BadgeCountJob(args=['./resources/0.xml'])\n",
    "\n",
    "    results = set()    \n",
    "    with job.make_runner() as runner:\n",
    "        runner.run()\n",
    "        for key, value in job.parse_output(runner.cat_output()):\n",
    "            results.add((key, value))\n",
    "\n",
    "    # -- all records should be unique\n",
    "    assert len(results) == len(set(results))\n",
    "    \n",
    "    results = sorted(results, key=lambda x: (x[1], x[0]), reverse=True)\n",
    "\n",
    "    # -- top 5 should be ok\n",
    "    assert results[:5] == [\n",
    "        ('Popular Question', 14687), \n",
    "        ('Informed', 9557), \n",
    "        ('Notable Question', 7466), \n",
    "        ('Editor', 7230), \n",
    "        ('Yearling', 5903),\n",
    "    ]\n",
    "    # -- bottom 5 should be ok\n",
    "    assert results[-5:][::-1] == [\n",
    "        ('Census', 1), \n",
    "        ('activeadmin', 1), \n",
    "        ('ajax', 1), \n",
    "        ('alembic', 1), \n",
    "        ('amazon-web-services', 1)\n",
    "    ]\n",
    "    \n",
    "    \n",
    "def test_badge_per_user_count_job():\n",
    "    job = BadgeCountPerUserJob(args=['./resources/0.xml'])\n",
    "\n",
    "    results = []    \n",
    "    with job.make_runner() as runner:\n",
    "        runner.run()\n",
    "        for user_id, name_counts in job.parse_output(runner.cat_output()):\n",
    "            results.append((user_id, name_counts))\n",
    "\n",
    "    # -- all records should be unique\n",
    "    assert len(results) == 80987\n",
    "\n",
    "    results = {user_id: name_counts for user_id, name_counts in results}\n",
    "    assert results['1000090'] == [['Necromancer', 1]]\n",
    "    assert set(tuple(r) for r in results['217408']) == set([\n",
    "        ('Nice Answer', 11), \n",
    "        ('Enlightened', 8),         \n",
    "        ('Good Answer', 6), \n",
    "        ('Announcer', 2),\n",
    "        ('Great Answer', 1), \n",
    "        ('Guru', 1),        \n",
    "        ('Popular Question', 1),         \n",
    "        ('Revival', 1),\n",
    "    ])"
   ]
  },
  {
   "cell_type": "code",
   "execution_count": 108,
   "metadata": {},
   "outputs": [
    {
     "name": "stdout",
     "output_type": "stream",
     "text": [
      "\u001b[1m============================= test session starts ==============================\u001b[0m\n",
      "platform linux -- Python 3.6.5, pytest-3.8.2, py-1.6.0, pluggy-0.7.1\n",
      "rootdir: /home/maciej/projects/learning-big-data, inifile: pytest.ini\n",
      "plugins: pythonpath-0.7.1, mock-0.10.1, cov-2.5.1\n",
      "collected 2 items                                                              \u001b[0m\u001b[1m\n",
      "\n",
      "tests.py ..\n",
      "\n",
      "\u001b[32m\u001b[1m========================== 2 passed in 12.52 seconds ===========================\u001b[0m\n"
     ]
    }
   ],
   "source": [
    "!py.test -s tests.py"
   ]
  },
  {
   "cell_type": "markdown",
   "metadata": {},
   "source": [
    "## Your solution"
   ]
  },
  {
   "cell_type": "code",
   "execution_count": 113,
   "metadata": {},
   "outputs": [
    {
     "name": "stdout",
     "output_type": "stream",
     "text": [
      "Writing exercise.py\n"
     ]
    }
   ],
   "source": [
    "%%file exercise.py\n",
    "\n",
    "from mrjob.job import MRJob\n",
    "import xmltodict\n",
    "\n",
    "\n",
    "class BadgeCountJob(MRJob):\n",
    "    \n",
    "    def mapper(self, _, line):\n",
    "        yield 'a', 'a'\n",
    "        \n",
    "    def combiner(self, badge_name, counts):\n",
    "        yield 'a', 'a'\n",
    "        \n",
    "    def reducer(self, badge_name, counts):\n",
    "        yield 'a', 'a'   \n",
    "        \n",
    "        \n",
    "class BadgeCountPerUserJob(MRJob):        \n",
    "    def mapper(self, _, line):\n",
    "        yield 'a', 'a'\n",
    "        \n",
    "    def combiner(self, user_id, name_counts):\n",
    "        yield 'a', 'a'\n",
    "        \n",
    "    def reducer(self, user_id, name_counts):        \n",
    "        yield 'a', 'a' "
   ]
  },
  {
   "cell_type": "markdown",
   "metadata": {},
   "source": [
    "## Answer"
   ]
  },
  {
   "cell_type": "code",
   "execution_count": 112,
   "metadata": {},
   "outputs": [],
   "source": [
    "# !cat answer.py"
   ]
  },
  {
   "cell_type": "code",
   "execution_count": null,
   "metadata": {},
   "outputs": [],
   "source": []
  }
 ],
 "metadata": {
  "kernelspec": {
   "display_name": "Python 3",
   "language": "python",
   "name": "python3"
  },
  "language_info": {
   "codemirror_mode": {
    "name": "ipython",
    "version": 3
   },
   "file_extension": ".py",
   "mimetype": "text/x-python",
   "name": "python",
   "nbconvert_exporter": "python",
   "pygments_lexer": "ipython3",
   "version": "3.6.5"
  }
 },
 "nbformat": 4,
 "nbformat_minor": 2
}
