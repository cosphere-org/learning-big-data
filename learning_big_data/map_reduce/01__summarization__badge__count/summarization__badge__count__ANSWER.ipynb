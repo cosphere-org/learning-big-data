{
 "cells": [
  {
   "cell_type": "markdown",
   "metadata": {},
   "source": [
    "## TASK\n",
    "\n",
    "Create MapReduce Job which will calculate count of specific stackoverflow badge as present in the analysed files. If possible try to leverage the combiner optimization technique. \n",
    "\n",
    "NOTE: Before you try working on Map Reduce Job try to achieve the same using pure python and working only on a single `0.xml` (available in the current directory)."
   ]
  },
  {
   "cell_type": "code",
   "execution_count": 1,
   "metadata": {},
   "outputs": [],
   "source": [
    "from glob import glob\n",
    "from uuid import uuid4\n",
    "\n",
    "import requests\n",
    "import xmltodict\n",
    "\n",
    "from job import Job\n",
    "\n",
    "\n",
    "get_stackoverflow_badges_uri = (\n",
    "    'https://s3.eu-central-1.amazonaws.com/learning.big.data/stackoverflow-badges/{}'.format)"
   ]
  },
  {
   "cell_type": "markdown",
   "metadata": {},
   "source": [
    "## Records Reader"
   ]
  },
  {
   "cell_type": "code",
   "execution_count": 2,
   "metadata": {},
   "outputs": [],
   "source": [
    "def record_reader(line):\n",
    "    record = dict(xmltodict.parse(line.decode('utf-8'))['row'])        \n",
    "    yield (\n",
    "        record['@Id'],\n",
    "        {k.replace('@', '').lower(): v for k, v in record.items()},\n",
    "    )            "
   ]
  },
  {
   "cell_type": "code",
   "execution_count": 3,
   "metadata": {},
   "outputs": [
    {
     "name": "stdout",
     "output_type": "stream",
     "text": [
      "[('26066242', {'id': '26066242', 'userid': '8125167', 'name': 'Supporter', 'date': '2017-11-28T19:34:25.047', 'class': '3', 'tagbased': 'False'}), ('26066243', {'id': '26066243', 'userid': '9006638', 'name': 'Supporter', 'date': '2017-11-28T19:34:25.047', 'class': '3', 'tagbased': 'False'})]\n"
     ]
    }
   ],
   "source": [
    "response = requests.get(\n",
    "    get_stackoverflow_badges_uri('0.xml'), \n",
    "    stream=True)\n",
    "\n",
    "records = []\n",
    "for line in response.iter_lines():\n",
    "    if line:\n",
    "        records.append(next(record_reader(line)))\n",
    "        \n",
    "print(records[:2])"
   ]
  },
  {
   "cell_type": "markdown",
   "metadata": {},
   "source": [
    "## Mapper"
   ]
  },
  {
   "cell_type": "code",
   "execution_count": 4,
   "metadata": {},
   "outputs": [],
   "source": [
    "def mapper(key, value):\n",
    "    yield (value['name'], 1)"
   ]
  },
  {
   "cell_type": "code",
   "execution_count": 5,
   "metadata": {},
   "outputs": [
    {
     "data": {
      "text/plain": [
       "[('Supporter', 1),\n",
       " ('Supporter', 1),\n",
       " ('Supporter', 1),\n",
       " ('Supporter', 1),\n",
       " ('Taxonomist', 1),\n",
       " ('Teacher', 1),\n",
       " ('Teacher', 1),\n",
       " ('Teacher', 1),\n",
       " ('Teacher', 1),\n",
       " ('Informed', 1)]"
      ]
     },
     "execution_count": 5,
     "metadata": {},
     "output_type": "execute_result"
    }
   ],
   "source": [
    "# -- test mapper\n",
    "[next(mapper(key, value)) for key, value in records[:10]]"
   ]
  },
  {
   "cell_type": "markdown",
   "metadata": {},
   "source": [
    "## Reducer"
   ]
  },
  {
   "cell_type": "code",
   "execution_count": 6,
   "metadata": {},
   "outputs": [],
   "source": [
    "def reducer(key, values):\n",
    "    yield (key, sum(values))"
   ]
  },
  {
   "cell_type": "code",
   "execution_count": 7,
   "metadata": {},
   "outputs": [
    {
     "data": {
      "text/plain": [
       "('Supporter', 7)"
      ]
     },
     "execution_count": 7,
     "metadata": {},
     "output_type": "execute_result"
    }
   ],
   "source": [
    "# -- test reducer\n",
    "next(reducer('Supporter', [1, 3, 2, 1]))"
   ]
  },
  {
   "cell_type": "markdown",
   "metadata": {},
   "source": [
    "## Job"
   ]
  },
  {
   "cell_type": "code",
   "execution_count": 8,
   "metadata": {},
   "outputs": [
    {
     "name": "stdout",
     "output_type": "stream",
     "text": [
      "\n",
      "\n",
      "==========================================\n",
      "\n",
      "JOB ID: 7701992a-1f43-40b4-8324-7754461c725e\n",
      "\n",
      "INPUT SIZE: 92573565\n",
      "\n",
      "OUTPUT PATH: /home/jovyan/work/map_reduce/.outputs/7701992a-1f43-40b4-8324-7754461c725e\n",
      "\n",
      "EXECUTION TIME: 31.186\n",
      "\n",
      "MAX SHUFFLE SIZE: 78683\n",
      "\n",
      "FILES:\n",
      "+----------------------------+--------------+\n",
      "|          filename          | size (bytes) |\n",
      "+============================+==============+\n",
      "| mapper_0__partition_0.json | 2735         |\n",
      "+----------------------------+--------------+\n",
      "| mapper_0__partition_1.json | 2471         |\n",
      "+----------------------------+--------------+\n",
      "| mapper_0__partition_2.json | 2888         |\n",
      "+----------------------------+--------------+\n",
      "| mapper_0__partition_3.json | 2191         |\n",
      "+----------------------------+--------------+\n",
      "| mapper_1__partition_0.json | 2825         |\n",
      "+----------------------------+--------------+\n",
      "| mapper_1__partition_1.json | 3154         |\n",
      "+----------------------------+--------------+\n",
      "| mapper_1__partition_2.json | 2494         |\n",
      "+----------------------------+--------------+\n",
      "| mapper_1__partition_3.json | 2586         |\n",
      "+----------------------------+--------------+\n",
      "| mapper_2__partition_0.json | 1777         |\n",
      "+----------------------------+--------------+\n",
      "| mapper_2__partition_1.json | 1740         |\n",
      "+----------------------------+--------------+\n",
      "| mapper_2__partition_2.json | 1923         |\n",
      "+----------------------------+--------------+\n",
      "| mapper_2__partition_3.json | 1520         |\n",
      "+----------------------------+--------------+\n",
      "| mapper_3__partition_0.json | 3353         |\n",
      "+----------------------------+--------------+\n",
      "| mapper_3__partition_1.json | 2813         |\n",
      "+----------------------------+--------------+\n",
      "| mapper_3__partition_2.json | 2959         |\n",
      "+----------------------------+--------------+\n",
      "| mapper_3__partition_3.json | 2386         |\n",
      "+----------------------------+--------------+\n",
      "| mapper_4__partition_0.json | 2217         |\n",
      "+----------------------------+--------------+\n",
      "| mapper_4__partition_1.json | 2150         |\n",
      "+----------------------------+--------------+\n",
      "| mapper_4__partition_2.json | 2095         |\n",
      "+----------------------------+--------------+\n",
      "| mapper_4__partition_3.json | 1680         |\n",
      "+----------------------------+--------------+\n",
      "| mapper_5__partition_0.json | 2711         |\n",
      "+----------------------------+--------------+\n",
      "| mapper_5__partition_1.json | 2676         |\n",
      "+----------------------------+--------------+\n",
      "| mapper_5__partition_2.json | 2537         |\n",
      "+----------------------------+--------------+\n",
      "| mapper_5__partition_3.json | 2018         |\n",
      "+----------------------------+--------------+\n",
      "| mapper_6__partition_0.json | 2895         |\n",
      "+----------------------------+--------------+\n",
      "| mapper_6__partition_1.json | 2845         |\n",
      "+----------------------------+--------------+\n",
      "| mapper_6__partition_2.json | 2570         |\n",
      "+----------------------------+--------------+\n",
      "| mapper_6__partition_3.json | 2325         |\n",
      "+----------------------------+--------------+\n",
      "| mapper_7__partition_0.json | 2880         |\n",
      "+----------------------------+--------------+\n",
      "| mapper_7__partition_1.json | 2647         |\n",
      "+----------------------------+--------------+\n",
      "| mapper_7__partition_2.json | 2467         |\n",
      "+----------------------------+--------------+\n",
      "| mapper_7__partition_3.json | 2155         |\n",
      "+----------------------------+--------------+\n",
      "| reducer_0.json             | 7698         |\n",
      "+----------------------------+--------------+\n",
      "| reducer_1.json             | 8458         |\n",
      "+----------------------------+--------------+\n",
      "| reducer_2.json             | 7508         |\n",
      "+----------------------------+--------------+\n",
      "| reducer_3.json             | 6734         |\n",
      "+----------------------------+--------------+\n",
      "        \n"
     ]
    }
   ],
   "source": [
    "Job(\n",
    "    input_uris=[\n",
    "        get_stackoverflow_badges_uri('0.xml'),\n",
    "        get_stackoverflow_badges_uri('1.xml'),\n",
    "        get_stackoverflow_badges_uri('2.xml'),    \n",
    "        get_stackoverflow_badges_uri('3.xml'),            \n",
    "        get_stackoverflow_badges_uri('4.xml'),            \n",
    "        get_stackoverflow_badges_uri('5.xml'),            \n",
    "        get_stackoverflow_badges_uri('6.xml'),            \n",
    "        get_stackoverflow_badges_uri('7.xml'),                            \n",
    "    ], \n",
    "    record_reader=record_reader,\n",
    "    mapper=mapper, \n",
    "    combiner=reducer,\n",
    "    reducer=reducer,\n",
    "    config={\n",
    "        'num_of_mappers': 4,\n",
    "        'num_of_reducers': 4,\n",
    "    }).run()"
   ]
  },
  {
   "cell_type": "code",
   "execution_count": 9,
   "metadata": {},
   "outputs": [
    {
     "name": "stdout",
     "output_type": "stream",
     "text": [
      "{\"key\": \"Informed\", \"values\": [9557]}\r\n",
      "{\"key\": \"Tumbleweed\", \"values\": [3461]}\r\n",
      "{\"key\": \"Yearling\", \"values\": [5903]}\r\n",
      "{\"key\": \"Custodian\", \"values\": [4357]}\r\n",
      "{\"key\": \"Autobiographer\", \"values\": [2984]}\r\n",
      "{\"key\": \"Famous Question\", \"values\": [2567]}\r\n",
      "{\"key\": \"Favorite Question\", \"values\": [151]}\r\n",
      "{\"key\": \"Necromancer\", \"values\": [2025]}\r\n",
      "{\"key\": \"Notable Question\", \"values\": [7466]}\r\n",
      "{\"key\": \"Revival\", \"values\": [1104]}\r\n"
     ]
    }
   ],
   "source": [
    "!head -n 10 .outputs/7701992a-1f43-40b4-8324-7754461c725e/mapper_0__partition_0.json"
   ]
  },
  {
   "cell_type": "code",
   "execution_count": 10,
   "metadata": {},
   "outputs": [
    {
     "name": "stdout",
     "output_type": "stream",
     "text": [
      "{\"key\": \"Supporter\", \"value\": 28778}\r\n",
      "{\"key\": \"ios5\", \"value\": 2}\r\n",
      "{\"key\": \"Citizen Patrol\", \"value\": 4500}\r\n",
      "{\"key\": \"Editor\", \"value\": 52131}\r\n",
      "{\"key\": \"Popular Question\", \"value\": 93792}\r\n",
      "{\"key\": \"Student\", \"value\": 47555}\r\n",
      "{\"key\": \"Good Answer\", \"value\": 10331}\r\n",
      "{\"key\": \"Announcer\", \"value\": 3551}\r\n",
      "{\"key\": \"Promoter\", \"value\": 1460}\r\n",
      "{\"key\": \"Populist\", \"value\": 499}\r\n"
     ]
    }
   ],
   "source": [
    "!head -n 10 .outputs/7701992a-1f43-40b4-8324-7754461c725e/reducer_1.json"
   ]
  },
  {
   "cell_type": "markdown",
   "metadata": {},
   "source": [
    "## SELF EXPLORATION\n",
    "- read & merge content returned by all reducers\n",
    "- check if really all the keys where uniquely distributed among reducers\n",
    "- check how even the distribution of data was \n",
    "- check if there were any benefits coming from the usage of combiners (even in the local setup)\n",
    "- how well does it scale? how many mappers we would need to process 1 TB of data in say 1 day?\n",
    "- how many records would we have in that 1TB\n",
    "- what is the `MB/s` and `records/s` speed of our above home made framework? "
   ]
  },
  {
   "cell_type": "code",
   "execution_count": null,
   "metadata": {},
   "outputs": [],
   "source": []
  }
 ],
 "metadata": {
  "kernelspec": {
   "display_name": "Python 3",
   "language": "python",
   "name": "python3"
  },
  "language_info": {
   "codemirror_mode": {
    "name": "ipython",
    "version": 3
   },
   "file_extension": ".py",
   "mimetype": "text/x-python",
   "name": "python",
   "nbconvert_exporter": "python",
   "pygments_lexer": "ipython3",
   "version": "3.6.5"
  }
 },
 "nbformat": 4,
 "nbformat_minor": 2
}
