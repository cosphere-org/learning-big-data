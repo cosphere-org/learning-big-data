{
 "cells": [
  {
   "cell_type": "markdown",
   "metadata": {},
   "source": [
    "## Challenge\n",
    "\n",
    "Retieve `displayname` from stackoverflow records (file `0.xml`). Treat those names as a hot list for training a Bloom filter. Use than this trained Bloom filter to check if there are any users in `1.xml` who are not in hot list. "
   ]
  },
  {
   "cell_type": "code",
   "execution_count": 6,
   "metadata": {},
   "outputs": [],
   "source": [
    "%%bash\n",
    "\n",
    "# -- run it in order to fetch the data\n",
    "wget -P resources https://s3.eu-central-1.amazonaws.com/learning.big.data/stackoverflow-users/0.xml\n",
    "wget -P resources https://s3.eu-central-1.amazonaws.com/learning.big.data/stackoverflow-users/1.xml"
   ]
  },
  {
   "cell_type": "code",
   "execution_count": 32,
   "metadata": {},
   "outputs": [
    {
     "name": "stdout",
     "output_type": "stream",
     "text": [
      "Overwriting tests.py\n"
     ]
    }
   ],
   "source": [
    "%%file tests.py\n",
    "\n",
    "# from exercise import NotHotFilterJob\n",
    "from answer import NotHotFilterJob\n",
    "\n",
    "\n",
    "def test_job():\n",
    "    job = NotHotFilterJob(args=['./resources/1.xml'])\n",
    "\n",
    "    results = []\n",
    "    with job.make_runner() as runner:\n",
    "        runner.run()\n",
    "        for key, value in job.parse_output(runner.cat_output()):\n",
    "            results.append(value)\n",
    "    \n",
    "    assert len(results) == 94265"
   ]
  },
  {
   "cell_type": "code",
   "execution_count": 33,
   "metadata": {},
   "outputs": [
    {
     "name": "stdout",
     "output_type": "stream",
     "text": [
      "\u001b[1m============================= test session starts ==============================\u001b[0m\n",
      "platform linux -- Python 3.6.5, pytest-3.8.2, py-1.6.0, pluggy-0.7.1\n",
      "rootdir: /home/maciej/projects/learning-big-data, inifile: pytest.ini\n",
      "plugins: pythonpath-0.7.1, mock-0.10.1, cov-2.5.1\n",
      "collected 1 item                                                               \u001b[0m\u001b[1m\n",
      "\n",
      "tests.py .\n",
      "\n",
      "\u001b[32m\u001b[1m========================== 1 passed in 12.86 seconds ===========================\u001b[0m\n"
     ]
    }
   ],
   "source": [
    "!py.test -s tests.py"
   ]
  },
  {
   "cell_type": "markdown",
   "metadata": {},
   "source": [
    "## Your solution"
   ]
  },
  {
   "cell_type": "code",
   "execution_count": 35,
   "metadata": {},
   "outputs": [
    {
     "name": "stdout",
     "output_type": "stream",
     "text": [
      "Overwriting exercise.py\n"
     ]
    }
   ],
   "source": [
    "%%file exercise.py\n",
    "\n",
    "import os\n",
    "\n",
    "from mrjob.job import MRJob\n",
    "import xmltodict\n",
    "from pybloom_live import BloomFilter\n",
    "\n",
    "\n",
    "basedir = os.path.dirname(__file__)\n",
    "\n",
    "\n",
    "def row_to_dict(row):\n",
    "    row = row.strip()\n",
    "    record = dict(xmltodict.parse(row)['row'])        \n",
    "\n",
    "    return {k.replace('@', '').lower(): v for k, v in record.items()}\n",
    "\n",
    "#\n",
    "# TRAIN BLOOM FILTER\n",
    "#\n",
    "# -- training the Bloom filter\n",
    "# -- you code goes here...\n",
    "bf = 'replace this with something...'\n",
    "\n",
    "with open('./resources/hot_displayname.bf', 'wb') as f:\n",
    "    bf.tofile(f)\n",
    "        \n",
    "        \n",
    "#\n",
    "# MAP REDUCE JOB USING THE FILTER\n",
    "# \n",
    "class NotHotFilterJob(MRJob):\n",
    "    \n",
    "    def mapper_init(self):\n",
    "        with open(os.path.join(basedir, 'resources/hot_displayname.bf'), 'rb') as f:\n",
    "            self.filter = BloomFilter.fromfile(f)\n",
    "        \n",
    "    def mapper(self, key, line):\n",
    "        # -- you code goes here\n",
    "        yield 'a', 'a'            "
   ]
  },
  {
   "cell_type": "markdown",
   "metadata": {},
   "source": [
    "## The answer"
   ]
  },
  {
   "cell_type": "code",
   "execution_count": 39,
   "metadata": {},
   "outputs": [],
   "source": [
    "# !cat answer.py"
   ]
  },
  {
   "cell_type": "code",
   "execution_count": null,
   "metadata": {},
   "outputs": [],
   "source": []
  }
 ],
 "metadata": {
  "kernelspec": {
   "display_name": "Python 3",
   "language": "python",
   "name": "python3"
  },
  "language_info": {
   "codemirror_mode": {
    "name": "ipython",
    "version": 3
   },
   "file_extension": ".py",
   "mimetype": "text/x-python",
   "name": "python",
   "nbconvert_exporter": "python",
   "pygments_lexer": "ipython3",
   "version": "3.6.5"
  }
 },
 "nbformat": 4,
 "nbformat_minor": 2
}
