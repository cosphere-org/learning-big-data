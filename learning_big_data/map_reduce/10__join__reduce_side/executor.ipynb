{
 "cells": [
  {
   "cell_type": "markdown",
   "metadata": {},
   "source": [
    "## Challenge\n",
    "\n",
    "Create ReduceSideJoin MapReduce job using `mrjob`: \n",
    "- It accepts two types of inputs: users and badges and should perform inner join on `userid` field. \n",
    "- The resulting records should be in the form of dictionary with field `user` (where user record should be placed) and `badges` (where list of badges belonging to a given user should be placed)"
   ]
  },
  {
   "cell_type": "code",
   "execution_count": 7,
   "metadata": {},
   "outputs": [],
   "source": [
    "%%bash\n",
    "\n",
    "# -- run it in order to fetch the data\n",
    "wget -P resources https://s3.eu-central-1.amazonaws.com/learning.big.data/stackoverflow-users/0.xml\n",
    "mv resources/0.xml resources/0-users.xml \n",
    "wget -P resources https://s3.eu-central-1.amazonaws.com/learning.big.data/stackoverflow-badges/0.xml\n",
    "mv resources/0.xml resources/0-badges.xml "
   ]
  },
  {
   "cell_type": "code",
   "execution_count": 46,
   "metadata": {},
   "outputs": [
    {
     "name": "stdout",
     "output_type": "stream",
     "text": [
      "Overwriting tests.py\n"
     ]
    }
   ],
   "source": [
    "%%file tests.py\n",
    "\n",
    "# from exercise import ReduceSideJoinJob\n",
    "from answer import ReduceSideJoinJob\n",
    "\n",
    "\n",
    "def test_job():\n",
    "    job = ReduceSideJoinJob(args=[\n",
    "        './resources/0-users.xml',\n",
    "        './resources/0-badges.xml',        \n",
    "    ])\n",
    "\n",
    "    results = []\n",
    "    with job.make_runner() as runner:\n",
    "        runner.run()\n",
    "        for key, value in job.parse_output(runner.cat_output()):\n",
    "            results.append(value)\n",
    "    \n",
    "    assert len(results) == 966\n",
    "    assert results[0]['user']['id'] == '2975318'\n",
    "    assert len(results[0]['badges']) == 1    "
   ]
  },
  {
   "cell_type": "code",
   "execution_count": 48,
   "metadata": {},
   "outputs": [
    {
     "name": "stdout",
     "output_type": "stream",
     "text": [
      "\u001b[1m============================= test session starts ==============================\u001b[0m\n",
      "platform linux -- Python 3.6.5, pytest-3.8.2, py-1.6.0, pluggy-0.7.1\n",
      "rootdir: /home/maciej/projects/learning-big-data, inifile: pytest.ini\n",
      "plugins: pythonpath-0.7.1, mock-0.10.1, cov-2.5.1\n",
      "collected 1 item                                                               \u001b[0m\u001b[1m\n",
      "\n",
      "tests.py .\n",
      "\n",
      "\u001b[32m\u001b[1m========================== 1 passed in 13.05 seconds ===========================\u001b[0m\n"
     ]
    }
   ],
   "source": [
    "!py.test -s tests.py"
   ]
  },
  {
   "cell_type": "markdown",
   "metadata": {},
   "source": [
    "## Your solution"
   ]
  },
  {
   "cell_type": "code",
   "execution_count": 49,
   "metadata": {},
   "outputs": [
    {
     "name": "stdout",
     "output_type": "stream",
     "text": [
      "Writing exercise.py\n"
     ]
    }
   ],
   "source": [
    "%%file exercise.py\n",
    "\n",
    "from mrjob.job import MRJob\n",
    "import xmltodict\n",
    "\n",
    "\n",
    "def row_to_dict(row):\n",
    "    row = row.strip()\n",
    "    record = dict(xmltodict.parse(row)['row'])        \n",
    "\n",
    "    return {k.replace('@', '').lower(): v for k, v in record.items()}\n",
    "\n",
    "\n",
    "class ReduceSideJoinJob(MRJob):\n",
    "\n",
    "    def mapper(self, _, line):\n",
    "        # -- your code goes here\n",
    "        yield 'a', 'a'\n",
    "            \n",
    "    def reducer(self, userid, entities):\n",
    "        # -- your code goes here\n",
    "        yield 'a', 'a'"
   ]
  },
  {
   "cell_type": "markdown",
   "metadata": {},
   "source": [
    "## The answer"
   ]
  },
  {
   "cell_type": "code",
   "execution_count": 51,
   "metadata": {},
   "outputs": [],
   "source": [
    "# cat answer.py"
   ]
  },
  {
   "cell_type": "code",
   "execution_count": null,
   "metadata": {},
   "outputs": [],
   "source": []
  }
 ],
 "metadata": {
  "kernelspec": {
   "display_name": "Python 3",
   "language": "python",
   "name": "python3"
  },
  "language_info": {
   "codemirror_mode": {
    "name": "ipython",
    "version": 3
   },
   "file_extension": ".py",
   "mimetype": "text/x-python",
   "name": "python",
   "nbconvert_exporter": "python",
   "pygments_lexer": "ipython3",
   "version": "3.6.5"
  }
 },
 "nbformat": 4,
 "nbformat_minor": 2
}
