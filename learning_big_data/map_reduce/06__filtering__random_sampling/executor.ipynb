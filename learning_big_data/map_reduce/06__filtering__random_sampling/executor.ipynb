{
 "cells": [
  {
   "cell_type": "markdown",
   "metadata": {},
   "source": [
    "## Challenge\n",
    "\n",
    "Create a Map Reduce job (using `mrjob`) which will randomly sample 1% of stackoverflow Users "
   ]
  },
  {
   "cell_type": "code",
   "execution_count": 6,
   "metadata": {},
   "outputs": [],
   "source": [
    "%%bash\n",
    "\n",
    "# -- run it in order to fetch the data\n",
    "wget -P resources https://s3.eu-central-1.amazonaws.com/learning.big.data/stackoverflow-users/0.xml"
   ]
  },
  {
   "cell_type": "code",
   "execution_count": 1,
   "metadata": {},
   "outputs": [
    {
     "name": "stdout",
     "output_type": "stream",
     "text": [
      "Overwriting tests.py\n"
     ]
    }
   ],
   "source": [
    "%%file tests.py\n",
    "\n",
    "import json\n",
    "\n",
    "# from exercise import RandomSamplingJob\n",
    "from answer import RandomSamplingJob\n",
    "\n",
    "\n",
    "def test_job():\n",
    "    job = RandomSamplingJob(args=['./resources/0.xml'])\n",
    "\n",
    "    results = set()\n",
    "    with job.make_runner() as runner:\n",
    "        runner.run()\n",
    "        for key, value in job.parse_output(runner.cat_output()):\n",
    "            results.add((key, value))\n",
    "\n",
    "    assert abs(len(results) / 10 ** 3 - 1) < 0.05         "
   ]
  },
  {
   "cell_type": "code",
   "execution_count": 2,
   "metadata": {},
   "outputs": [
    {
     "name": "stdout",
     "output_type": "stream",
     "text": [
      "\u001b[1m============================= test session starts ==============================\u001b[0m\n",
      "platform linux -- Python 3.6.5, pytest-3.8.2, py-1.6.0, pluggy-0.7.1\n",
      "rootdir: /home/maciej/projects/learning-big-data, inifile: pytest.ini\n",
      "plugins: pythonpath-0.7.1, mock-0.10.1, cov-2.5.1\n",
      "collected 1 item                                                               \u001b[0m\u001b[1m\n",
      "\n",
      "tests.py .\n",
      "\n",
      "\u001b[32m\u001b[1m=========================== 1 passed in 4.73 seconds ===========================\u001b[0m\n"
     ]
    }
   ],
   "source": [
    "!py.test -s tests.py"
   ]
  },
  {
   "cell_type": "markdown",
   "metadata": {},
   "source": [
    "## Your solution"
   ]
  },
  {
   "cell_type": "code",
   "execution_count": 7,
   "metadata": {},
   "outputs": [
    {
     "name": "stdout",
     "output_type": "stream",
     "text": [
      "Writing exercise.py\n"
     ]
    }
   ],
   "source": [
    "%%file exercise.py\n",
    "\n",
    "from mrjob.job import MRJob\n",
    "\n",
    "\n",
    "class RandomSamplingJob(MRJob):\n",
    "\n",
    "    def mapper(self, key, line):\n",
    "        yield 'a', 'a'"
   ]
  },
  {
   "cell_type": "markdown",
   "metadata": {},
   "source": [
    "## The answer"
   ]
  },
  {
   "cell_type": "code",
   "execution_count": 10,
   "metadata": {},
   "outputs": [
    {
     "name": "stdout",
     "output_type": "stream",
     "text": [
      "Writing answer.py\n"
     ]
    }
   ],
   "source": [
    "%%file answer.py\n",
    "\n",
    "import json\n",
    "import random\n",
    "\n",
    "from mrjob.job import MRJob\n",
    "import xmltodict\n",
    "\n",
    "\n",
    "class RandomSamplingJob(MRJob):\n",
    "\n",
    "    def mapper(self, key, line):\n",
    "        line = line.strip()\n",
    "        record = dict(xmltodict.parse(line)['row'])        \n",
    "        user = {k.replace('@', '').lower(): v for k, v in record.items()}\n",
    "        \n",
    "        if random.random() < 0.01: \n",
    "            yield (key, json.dumps(user))    "
   ]
  },
  {
   "cell_type": "code",
   "execution_count": null,
   "metadata": {},
   "outputs": [],
   "source": [
    "# !cat answer.py"
   ]
  }
 ],
 "metadata": {
  "kernelspec": {
   "display_name": "Python 3",
   "language": "python",
   "name": "python3"
  },
  "language_info": {
   "codemirror_mode": {
    "name": "ipython",
    "version": 3
   },
   "file_extension": ".py",
   "mimetype": "text/x-python",
   "name": "python",
   "nbconvert_exporter": "python",
   "pygments_lexer": "ipython3",
   "version": "3.6.5"
  }
 },
 "nbformat": 4,
 "nbformat_minor": 2
}
